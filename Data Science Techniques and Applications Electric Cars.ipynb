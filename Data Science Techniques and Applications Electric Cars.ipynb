{
 "cells": [
  {
   "cell_type": "markdown",
   "id": "d42693e4",
   "metadata": {
    "scrolled": true
   },
   "source": [
    "\n",
    "**Name : Satwik Jena**<br>\n",
    "**Student Number: 13909871**"
   ]
  },
  {
   "cell_type": "markdown",
   "id": "0d635cf8",
   "metadata": {},
   "source": [
    "**Academic Declaration**:\n",
    "“I have read and understood the sections of plagiarism \n",
    "in the College Policy on assessment offences and confirm that the work is my own, with the work of others \n",
    "clearly acknowledged. I give my permission to submit my report to the plagiarism testing database that the \n",
    "College is using and test it using plagiarism detection software, search engines or meta-searching software."
   ]
  },
  {
   "cell_type": "markdown",
   "id": "54bcfa6b",
   "metadata": {},
   "source": [
    "<div class=\"warning\" style='padding:0.1em; background-color:#F4F0E5; color:#000000'>\n",
    "<span>\n",
    "<p style='text-align:center'>\n",
    "<b>Contents</b></p>\n",
    "<a id='contents'></a>\n",
    "    \n",
    "1. [Executive Summary](#Executive_Summary)<br><br>\n",
    "2. [Essay](#Essay)<br><br>\n",
    "3. [Packages Used](#packages)<br><br>\n",
    "4. [Section 1:Data Source](#Phase1)<br><br>\n",
    "5. [Section 2: Dimensional analysis](#Dimalnalysis)<br><br>\n",
    "    (a) [Columns and their data types](#datatypes)<br><br>\n",
    "    (b) [Data Duplicates](#duplicates)<br><br>\n",
    "    (c) [Check for Null data points](#Null)<br><br>\n",
    "    (d) [Boxplots](#Boxplots)<br><br>\n",
    "    (e) [Summary of descriptive statistics](#Summarydec)<br><br>\n",
    "    (f) [Section Summary](#Summary1)<br><br>\n",
    "6. [Section 3a. Select three dimensions that could be used as predictors and a  fourth dimension as predicted](#selectdim)<br><br>\n",
    "    (a) [Visualise all the dimensions with respect to the predicted dimension](#Visualise1)<br><br>\n",
    "    (b) [Exclusion of outliers](#outliers)<br><br>\n",
    "    (c) [Mutual information gain for each dimension](#MI)<br><br>\n",
    "    (d) [Variance Threshold for feature selection](#VT)<br><br>\n",
    "    (e) [Correlation between different dimensions](#corr)<br><br>\n",
    "    (f) [Section Summary](#Summary2)<br><br>\n",
    "7. [Section 3b. Visualize the values of the predictor dimensions and the predicted dimension.](#visualisedim)<br><br>\n",
    "8. [Section 3c. Predict the class of the car using the selected features.](#predict1)<br><br>\n",
    "    (a) [Reduction of the dimensions  using PCA](#ReducedimPCA)<br><br>\n",
    "    (b) [Run regression/classification algorithms to check and check quality of the prediction](#regressPCA)<br><br>\n",
    "    (c) [Visualisation of the PCA loadings](#visualisePCA)<br><br>\n",
    "    (d) [Section Summary](#Summary3)<br><br>\n",
    "9. [Section 5: Compare the quality of prediction between the results of phase 3 and phase 4](#Sec5)\n",
    "    \n",
    "</p>\n",
    "</div>\n",
    "\n",
    "\n",
    "\n",
    "    \n",
    "---\n",
    "    "
   ]
  },
  {
   "cell_type": "markdown",
   "id": "98f2852f",
   "metadata": {},
   "source": [
    "### 1. Executive Summary<a id='Executive_Summary'></a>  "
   ]
  },
  {
   "cell_type": "markdown",
   "id": "0275acf3",
   "metadata": {},
   "source": []
  },
  {
   "cell_type": "markdown",
   "id": "24a76777",
   "metadata": {},
   "source": [
    " [back to contents](#contents)<br><br>"
   ]
  },
  {
   "cell_type": "markdown",
   "id": "96f4ac4d",
   "metadata": {},
   "source": [
    "### 2. Essay <a id='Essay'></a>"
   ]
  },
  {
   "cell_type": "markdown",
   "id": "86da23ac",
   "metadata": {},
   "source": [
    "Electric Cars are a fast growing segment of the automobile industry. They are pushing their limits in terms of battery, motor quality and modern features. <br>\n",
    "The below analysis aims to classify electric cars into popular segments using typical features. The One Electric Vehicle dataset,sourced from Kaggle, is used to develop the models in the analysis. In this exercise we have taken two approaches to select the dimensions which are fed into the prediction algorithm:<br>\n",
    "- Mutual information gain for each dimension, Variance threshold method and subject knowledge<br>\n",
    "- Principal Component Analysis(PCA)<br>\n",
    "\n",
    "We have used K-nearest neighbour approach to predict the class of a car using the reduced set of fetaures obtained in previous steps.<br>\n",
    "\n",
    "List of dimensions in the data : \n",
    "\n",
    "| Dimension         | Meaning of the Dimension |\n",
    "| :---------------- | :-------------------------- | \n",
    "| AccelSec          |   Time taken to accelerate  |\n",
    "| TopSpeed_KmH      |   Top Speed of the car   |\n",
    "| Range_Km          |   Range (in km) in single charge    |\n",
    "| Efficiency_WhKm   |   Power consumed per kilometre   |\n",
    "| FastCharge_KmH    |   Kilometers for which the battery is charges in 1 hour   |\n",
    "| Seats\t            |   No of seats   |\n",
    "| PriceEuro\t        |   Price of the car in EURO   |\n",
    "| Segment\t        |   Segment of the car (A,B,C,D, etc.)   |\n"
   ]
  },
  {
   "cell_type": "markdown",
   "id": "c04abc71",
   "metadata": {},
   "source": [
    " [back to contents](#contents)<br><br>"
   ]
  },
  {
   "cell_type": "markdown",
   "id": "2e2e5287",
   "metadata": {},
   "source": [
    "### 3. Packages used<a id='packages'></a>"
   ]
  },
  {
   "cell_type": "code",
   "execution_count": 21,
   "id": "5d91e913",
   "metadata": {},
   "outputs": [],
   "source": [
    "import pandas as pd\n",
    "from sklearn.preprocessing import LabelEncoder\n",
    "from sklearn.preprocessing import scale, normalize\n",
    "from sklearn import decomposition\n",
    "import seaborn as sns\n",
    "import numpy as np\n",
    "from scipy import stats\n",
    "import matplotlib.pyplot as plt\n",
    "from sklearn import preprocessing\n",
    "import pandas as pd\n",
    "import matplotlib\n",
    "from sklearn.preprocessing import StandardScaler\n",
    "from sklearn.model_selection import train_test_split\n",
    "from sklearn.neighbors import KNeighborsClassifier\n",
    "from sklearn.metrics import accuracy_score\n",
    "from sklearn.feature_selection import VarianceThreshold\n",
    "from sklearn.inspection import DecisionBoundaryDisplay"
   ]
  },
  {
   "cell_type": "markdown",
   "id": "f61534ca",
   "metadata": {},
   "source": [
    " [back to contents](#contents)<br><br>"
   ]
  },
  {
   "cell_type": "markdown",
   "id": "2f4d91aa",
   "metadata": {},
   "source": [
    "***"
   ]
  },
  {
   "cell_type": "markdown",
   "id": "b634b140",
   "metadata": {},
   "source": [
    "### 4. Phase 1: Data Source<a id='Phase_1'></a>"
   ]
  },
  {
   "cell_type": "markdown",
   "id": "8945498f",
   "metadata": {},
   "source": [
    "The datset analysed here contains details on various core features of a electric car such as Acceleration rate, Top Speed, Range on single charge, Fast Charge capability and no of seats. \n",
    "The data can be sourced from https://www.kaggle.com/datasets/geoffnel/evs-one-electric-vehicle-dataset?select=ElectricCarData_Clean.csv"
   ]
  },
  {
   "cell_type": "code",
   "execution_count": 3,
   "id": "d6673727",
   "metadata": {},
   "outputs": [
    {
     "data": {
      "text/html": [
       "<div>\n",
       "<style scoped>\n",
       "    .dataframe tbody tr th:only-of-type {\n",
       "        vertical-align: middle;\n",
       "    }\n",
       "\n",
       "    .dataframe tbody tr th {\n",
       "        vertical-align: top;\n",
       "    }\n",
       "\n",
       "    .dataframe thead th {\n",
       "        text-align: right;\n",
       "    }\n",
       "</style>\n",
       "<table border=\"1\" class=\"dataframe\">\n",
       "  <thead>\n",
       "    <tr style=\"text-align: right;\">\n",
       "      <th></th>\n",
       "      <th>Brand</th>\n",
       "      <th>Model</th>\n",
       "      <th>AccelSec</th>\n",
       "      <th>TopSpeed_KmH</th>\n",
       "      <th>Range_Km</th>\n",
       "      <th>Efficiency_WhKm</th>\n",
       "      <th>FastCharge_KmH</th>\n",
       "      <th>Seats</th>\n",
       "      <th>PriceEuro</th>\n",
       "      <th>Segment</th>\n",
       "    </tr>\n",
       "  </thead>\n",
       "  <tbody>\n",
       "    <tr>\n",
       "      <th>0</th>\n",
       "      <td>Tesla</td>\n",
       "      <td>Roadster</td>\n",
       "      <td>2.1</td>\n",
       "      <td>410</td>\n",
       "      <td>970</td>\n",
       "      <td>206</td>\n",
       "      <td>920</td>\n",
       "      <td>4</td>\n",
       "      <td>215000</td>\n",
       "      <td>S</td>\n",
       "    </tr>\n",
       "    <tr>\n",
       "      <th>1</th>\n",
       "      <td>Tesla</td>\n",
       "      <td>Model S Performance</td>\n",
       "      <td>2.5</td>\n",
       "      <td>261</td>\n",
       "      <td>505</td>\n",
       "      <td>188</td>\n",
       "      <td>550</td>\n",
       "      <td>5</td>\n",
       "      <td>96990</td>\n",
       "      <td>F</td>\n",
       "    </tr>\n",
       "    <tr>\n",
       "      <th>2</th>\n",
       "      <td>Tesla</td>\n",
       "      <td>Model 3 Long Range Performance</td>\n",
       "      <td>3.4</td>\n",
       "      <td>261</td>\n",
       "      <td>435</td>\n",
       "      <td>167</td>\n",
       "      <td>910</td>\n",
       "      <td>5</td>\n",
       "      <td>61480</td>\n",
       "      <td>D</td>\n",
       "    </tr>\n",
       "    <tr>\n",
       "      <th>3</th>\n",
       "      <td>Porsche</td>\n",
       "      <td>Taycan Turbo S</td>\n",
       "      <td>2.8</td>\n",
       "      <td>260</td>\n",
       "      <td>375</td>\n",
       "      <td>223</td>\n",
       "      <td>780</td>\n",
       "      <td>4</td>\n",
       "      <td>180781</td>\n",
       "      <td>F</td>\n",
       "    </tr>\n",
       "    <tr>\n",
       "      <th>4</th>\n",
       "      <td>Porsche</td>\n",
       "      <td>Taycan Turbo</td>\n",
       "      <td>3.2</td>\n",
       "      <td>260</td>\n",
       "      <td>390</td>\n",
       "      <td>215</td>\n",
       "      <td>810</td>\n",
       "      <td>4</td>\n",
       "      <td>148301</td>\n",
       "      <td>F</td>\n",
       "    </tr>\n",
       "  </tbody>\n",
       "</table>\n",
       "</div>"
      ],
      "text/plain": [
       "      Brand                           Model  AccelSec  TopSpeed_KmH  Range_Km  \\\n",
       "0    Tesla                        Roadster        2.1           410       970   \n",
       "1    Tesla              Model S Performance       2.5           261       505   \n",
       "2    Tesla   Model 3 Long Range Performance       3.4           261       435   \n",
       "3  Porsche                   Taycan Turbo S       2.8           260       375   \n",
       "4  Porsche                     Taycan Turbo       3.2           260       390   \n",
       "\n",
       "   Efficiency_WhKm  FastCharge_KmH  Seats  PriceEuro Segment  \n",
       "0              206             920      4     215000       S  \n",
       "1              188             550      5      96990       F  \n",
       "2              167             910      5      61480       D  \n",
       "3              223             780      4     180781       F  \n",
       "4              215             810      4     148301       F  "
      ]
     },
     "execution_count": 3,
     "metadata": {},
     "output_type": "execute_result"
    }
   ],
   "source": [
    "file=\"ElectricCarData_Clean.csv\"\n",
    "df=pd.read_csv(file)\n",
    "df.head()"
   ]
  },
  {
   "cell_type": "markdown",
   "id": "6f8585c1",
   "metadata": {},
   "source": [
    " [back to contents](#contents)<br><br>"
   ]
  },
  {
   "cell_type": "markdown",
   "id": "d9dcd229",
   "metadata": {},
   "source": [
    "***"
   ]
  },
  {
   "cell_type": "markdown",
   "id": "9ba36c6a",
   "metadata": {},
   "source": [
    "### 5. Phase 2: Dimensional analysis <a id='Dimanalysis'></a>"
   ]
  },
  {
   "cell_type": "markdown",
   "id": "ece9185f",
   "metadata": {},
   "source": [
    "#### (a) Columns and their data types <a id='datatypes'></a>"
   ]
  },
  {
   "cell_type": "code",
   "execution_count": 4,
   "id": "c1c60911",
   "metadata": {},
   "outputs": [
    {
     "name": "stdout",
     "output_type": "stream",
     "text": [
      "<class 'pandas.core.frame.DataFrame'>\n",
      "RangeIndex: 98 entries, 0 to 97\n",
      "Data columns (total 10 columns):\n",
      " #   Column           Non-Null Count  Dtype  \n",
      "---  ------           --------------  -----  \n",
      " 0   Brand            98 non-null     object \n",
      " 1   Model            98 non-null     object \n",
      " 2   AccelSec         98 non-null     float64\n",
      " 3   TopSpeed_KmH     98 non-null     int64  \n",
      " 4   Range_Km         98 non-null     int64  \n",
      " 5   Efficiency_WhKm  98 non-null     int64  \n",
      " 6   FastCharge_KmH   98 non-null     int64  \n",
      " 7   Seats            98 non-null     int64  \n",
      " 8   PriceEuro        98 non-null     int64  \n",
      " 9   Segment          98 non-null     object \n",
      "dtypes: float64(1), int64(6), object(3)\n",
      "memory usage: 7.8+ KB\n"
     ]
    }
   ],
   "source": [
    "df.info()"
   ]
  },
  {
   "cell_type": "markdown",
   "id": "5fc13bb4",
   "metadata": {},
   "source": [
    " [back to contents](#contents)<br><br>"
   ]
  },
  {
   "cell_type": "markdown",
   "id": "b1d5b694",
   "metadata": {},
   "source": [
    "#### (b) Data Duplicates<a id='duplicates'></a>"
   ]
  },
  {
   "cell_type": "code",
   "execution_count": 5,
   "id": "64401ab0",
   "metadata": {},
   "outputs": [
    {
     "data": {
      "text/plain": [
       "<bound method Series.count of 0     False\n",
       "1     False\n",
       "2     False\n",
       "3     False\n",
       "4     False\n",
       "      ...  \n",
       "93    False\n",
       "94    False\n",
       "95    False\n",
       "96    False\n",
       "97    False\n",
       "Length: 98, dtype: bool>"
      ]
     },
     "execution_count": 5,
     "metadata": {},
     "output_type": "execute_result"
    }
   ],
   "source": [
    "df.duplicated().count"
   ]
  },
  {
   "cell_type": "markdown",
   "id": "5b1940ec",
   "metadata": {},
   "source": [
    " [back to contents](#contents)<br><br>"
   ]
  },
  {
   "cell_type": "markdown",
   "id": "c6ace778",
   "metadata": {},
   "source": [
    "#### (c) Check for Null data points<a id='Null'></a>"
   ]
  },
  {
   "cell_type": "code",
   "execution_count": 6,
   "id": "e1a48cc4",
   "metadata": {},
   "outputs": [
    {
     "data": {
      "text/plain": [
       "Brand              0\n",
       "Model              0\n",
       "AccelSec           0\n",
       "TopSpeed_KmH       0\n",
       "Range_Km           0\n",
       "Efficiency_WhKm    0\n",
       "FastCharge_KmH     0\n",
       "Seats              0\n",
       "PriceEuro          0\n",
       "Segment            0\n",
       "dtype: int64"
      ]
     },
     "execution_count": 6,
     "metadata": {},
     "output_type": "execute_result"
    }
   ],
   "source": [
    "df.isnull().sum()"
   ]
  },
  {
   "cell_type": "markdown",
   "id": "abcee674",
   "metadata": {},
   "source": [
    " [back to contents](#contents)<br><br>"
   ]
  },
  {
   "cell_type": "markdown",
   "id": "e5d9a4fc",
   "metadata": {},
   "source": [
    "#### (d) Boxplots <a id='Boxplots'></a>"
   ]
  },
  {
   "cell_type": "code",
   "execution_count": 7,
   "id": "2715c1b8",
   "metadata": {
    "scrolled": false
   },
   "outputs": [
    {
     "name": "stdout",
     "output_type": "stream",
     "text": [
      "AccelSec\n"
     ]
    },
    {
     "data": {
      "image/png": "[encoded data removed]",
      "text/plain": [
       "<Figure size 300x200 with 1 Axes>"
      ]
     },
     "metadata": {
      "needs_background": "light"
     },
     "output_type": "display_data"
    },
    {
     "name": "stdout",
     "output_type": "stream",
     "text": [
      "TopSpeed_KmH\n"
     ]
    },
    {
     "data": {
      "image/png": "[encoded data removed]",
      "text/plain": [
       "<Figure size 300x200 with 1 Axes>"
      ]
     },
     "metadata": {
      "needs_background": "light"
     },
     "output_type": "display_data"
    },
    {
     "name": "stdout",
     "output_type": "stream",
     "text": [
      "Range_Km\n"
     ]
    },
    {
     "data": {
      "image/png": "[encoded data removed]",
      "text/plain": [
       "<Figure size 300x200 with 1 Axes>"
      ]
     },
     "metadata": {
      "needs_background": "light"
     },
     "output_type": "display_data"
    },
    {
     "name": "stdout",
     "output_type": "stream",
     "text": [
      "Efficiency_WhKm\n"
     ]
    },
    {
     "data": {
      "image/png": "[encoded data removed]",
      "text/plain": [
       "<Figure size 300x200 with 1 Axes>"
      ]
     },
     "metadata": {
      "needs_background": "light"
     },
     "output_type": "display_data"
    },
    {
     "name": "stdout",
     "output_type": "stream",
     "text": [
      "FastCharge_KmH\n"
     ]
    },
    {
     "data": {
      "image/png": "[encoded data removed]",
      "text/plain": [
       "<Figure size 300x200 with 1 Axes>"
      ]
     },
     "metadata": {
      "needs_background": "light"
     },
     "output_type": "display_data"
    },
    {
     "name": "stdout",
     "output_type": "stream",
     "text": [
      "Seats\n"
     ]
    },
    {
     "data": {
      "image/png": "[encoded data removed]",
      "text/plain": [
       "<Figure size 300x200 with 1 Axes>"
      ]
     },
     "metadata": {
      "needs_background": "light"
     },
     "output_type": "display_data"
    },
    {
     "name": "stdout",
     "output_type": "stream",
     "text": [
      "PriceEuro\n"
     ]
    },
    {
     "data": {
      "image/png": "[encoded data removed]",
      "text/plain": [
       "<Figure size 300x200 with 1 Axes>"
      ]
     },
     "metadata": {
      "needs_background": "light"
     },
     "output_type": "display_data"
    }
   ],
   "source": [
    "x=df.select_dtypes(exclude=[\"object\"]).columns\n",
    "for i in x:\n",
    "    plt.figure(i)\n",
    "    print(i)\n",
    "    plt.boxplot(df[i])\n",
    "    plt.show()"
   ]
  },
  {
   "cell_type": "markdown",
   "id": "94d327da",
   "metadata": {},
   "source": [
    " [back to contents](#contents)<br><br>"
   ]
  },
  {
   "cell_type": "markdown",
   "id": "d11c21f3",
   "metadata": {},
   "source": [
    "#### (e) Summary of descriptive statistics <a id='Summarydec'></a>"
   ]
  },
  {
   "cell_type": "code",
   "execution_count": 8,
   "id": "1c2bea06",
   "metadata": {
    "scrolled": true
   },
   "outputs": [
    {
     "name": "stderr",
     "output_type": "stream",
     "text": [
      "C:\\Users\\DELL\\AppData\\Local\\Temp\\ipykernel_16920\\1849886793.py:3: FutureWarning: Automatic reindexing on DataFrame vs Series comparisons is deprecated and will raise ValueError in a future version. Do `left, right = left.align(right, axis=1, copy=False)` before e.g. `left == right`\n",
      "  dimension_char[\"mean_>_2sigma_count\"]=df[df>dimension_char[\"mean_2sigma\"]].count()\n"
     ]
    },
    {
     "data": {
      "text/html": [
       "<div>\n",
       "<style scoped>\n",
       "    .dataframe tbody tr th:only-of-type {\n",
       "        vertical-align: middle;\n",
       "    }\n",
       "\n",
       "    .dataframe tbody tr th {\n",
       "        vertical-align: top;\n",
       "    }\n",
       "\n",
       "    .dataframe thead th {\n",
       "        text-align: right;\n",
       "    }\n",
       "</style>\n",
       "<table border=\"1\" class=\"dataframe\">\n",
       "  <thead>\n",
       "    <tr style=\"text-align: right;\">\n",
       "      <th></th>\n",
       "      <th>count</th>\n",
       "      <th>mean</th>\n",
       "      <th>std</th>\n",
       "      <th>min</th>\n",
       "      <th>25%</th>\n",
       "      <th>50%</th>\n",
       "      <th>75%</th>\n",
       "      <th>max</th>\n",
       "      <th>mean_2sigma</th>\n",
       "      <th>mean_&gt;_2sigma_count</th>\n",
       "      <th>range</th>\n",
       "    </tr>\n",
       "  </thead>\n",
       "  <tbody>\n",
       "    <tr>\n",
       "      <th>AccelSec</th>\n",
       "      <td>98.0</td>\n",
       "      <td>7.046939</td>\n",
       "      <td>2.483895</td>\n",
       "      <td>2.1</td>\n",
       "      <td>5.10</td>\n",
       "      <td>7.3</td>\n",
       "      <td>8.95</td>\n",
       "      <td>14.0</td>\n",
       "      <td>12.014728</td>\n",
       "      <td>3</td>\n",
       "      <td>11.9</td>\n",
       "    </tr>\n",
       "    <tr>\n",
       "      <th>TopSpeed_KmH</th>\n",
       "      <td>98.0</td>\n",
       "      <td>181.653061</td>\n",
       "      <td>43.248527</td>\n",
       "      <td>123.0</td>\n",
       "      <td>150.00</td>\n",
       "      <td>167.0</td>\n",
       "      <td>200.00</td>\n",
       "      <td>410.0</td>\n",
       "      <td>268.150115</td>\n",
       "      <td>1</td>\n",
       "      <td>287.0</td>\n",
       "    </tr>\n",
       "    <tr>\n",
       "      <th>Range_Km</th>\n",
       "      <td>98.0</td>\n",
       "      <td>350.153061</td>\n",
       "      <td>118.217984</td>\n",
       "      <td>170.0</td>\n",
       "      <td>258.75</td>\n",
       "      <td>350.0</td>\n",
       "      <td>407.50</td>\n",
       "      <td>970.0</td>\n",
       "      <td>586.589030</td>\n",
       "      <td>3</td>\n",
       "      <td>800.0</td>\n",
       "    </tr>\n",
       "    <tr>\n",
       "      <th>Efficiency_WhKm</th>\n",
       "      <td>98.0</td>\n",
       "      <td>189.867347</td>\n",
       "      <td>30.055837</td>\n",
       "      <td>104.0</td>\n",
       "      <td>168.00</td>\n",
       "      <td>181.0</td>\n",
       "      <td>206.00</td>\n",
       "      <td>273.0</td>\n",
       "      <td>249.979022</td>\n",
       "      <td>6</td>\n",
       "      <td>169.0</td>\n",
       "    </tr>\n",
       "    <tr>\n",
       "      <th>FastCharge_KmH</th>\n",
       "      <td>98.0</td>\n",
       "      <td>456.734694</td>\n",
       "      <td>201.262897</td>\n",
       "      <td>170.0</td>\n",
       "      <td>275.00</td>\n",
       "      <td>440.0</td>\n",
       "      <td>560.00</td>\n",
       "      <td>940.0</td>\n",
       "      <td>859.260487</td>\n",
       "      <td>6</td>\n",
       "      <td>770.0</td>\n",
       "    </tr>\n",
       "    <tr>\n",
       "      <th>Seats</th>\n",
       "      <td>98.0</td>\n",
       "      <td>4.959184</td>\n",
       "      <td>0.687418</td>\n",
       "      <td>4.0</td>\n",
       "      <td>5.00</td>\n",
       "      <td>5.0</td>\n",
       "      <td>5.00</td>\n",
       "      <td>7.0</td>\n",
       "      <td>6.334020</td>\n",
       "      <td>6</td>\n",
       "      <td>3.0</td>\n",
       "    </tr>\n",
       "    <tr>\n",
       "      <th>PriceEuro</th>\n",
       "      <td>98.0</td>\n",
       "      <td>57324.683673</td>\n",
       "      <td>34288.246370</td>\n",
       "      <td>20129.0</td>\n",
       "      <td>35000.00</td>\n",
       "      <td>45000.0</td>\n",
       "      <td>65465.00</td>\n",
       "      <td>215000.0</td>\n",
       "      <td>125901.176413</td>\n",
       "      <td>5</td>\n",
       "      <td>194871.0</td>\n",
       "    </tr>\n",
       "  </tbody>\n",
       "</table>\n",
       "</div>"
      ],
      "text/plain": [
       "                 count          mean           std      min       25%  \\\n",
       "AccelSec          98.0      7.046939      2.483895      2.1      5.10   \n",
       "TopSpeed_KmH      98.0    181.653061     43.248527    123.0    150.00   \n",
       "Range_Km          98.0    350.153061    118.217984    170.0    258.75   \n",
       "Efficiency_WhKm   98.0    189.867347     30.055837    104.0    168.00   \n",
       "FastCharge_KmH    98.0    456.734694    201.262897    170.0    275.00   \n",
       "Seats             98.0      4.959184      0.687418      4.0      5.00   \n",
       "PriceEuro         98.0  57324.683673  34288.246370  20129.0  35000.00   \n",
       "\n",
       "                     50%       75%       max    mean_2sigma  \\\n",
       "AccelSec             7.3      8.95      14.0      12.014728   \n",
       "TopSpeed_KmH       167.0    200.00     410.0     268.150115   \n",
       "Range_Km           350.0    407.50     970.0     586.589030   \n",
       "Efficiency_WhKm    181.0    206.00     273.0     249.979022   \n",
       "FastCharge_KmH     440.0    560.00     940.0     859.260487   \n",
       "Seats                5.0      5.00       7.0       6.334020   \n",
       "PriceEuro        45000.0  65465.00  215000.0  125901.176413   \n",
       "\n",
       "                 mean_>_2sigma_count     range  \n",
       "AccelSec                           3      11.9  \n",
       "TopSpeed_KmH                       1     287.0  \n",
       "Range_Km                           3     800.0  \n",
       "Efficiency_WhKm                    6     169.0  \n",
       "FastCharge_KmH                     6     770.0  \n",
       "Seats                              6       3.0  \n",
       "PriceEuro                          5  194871.0  "
      ]
     },
     "execution_count": 8,
     "metadata": {},
     "output_type": "execute_result"
    }
   ],
   "source": [
    "dimension_char=df.describe().T\n",
    "dimension_char[\"mean_2sigma\"]=dimension_char[\"mean\"]+dimension_char[\"std\"]*2\n",
    "dimension_char[\"mean_>_2sigma_count\"]=df[df>dimension_char[\"mean_2sigma\"]].count()\n",
    "dimension_char[\"range\"]=dimension_char[\"max\"]-dimension_char[\"min\"]\n",
    "dimension_char"
   ]
  },
  {
   "cell_type": "code",
   "execution_count": 9,
   "id": "cc537587",
   "metadata": {},
   "outputs": [
    {
     "data": {
      "text/html": [
       "<div>\n",
       "<style scoped>\n",
       "    .dataframe tbody tr th:only-of-type {\n",
       "        vertical-align: middle;\n",
       "    }\n",
       "\n",
       "    .dataframe tbody tr th {\n",
       "        vertical-align: top;\n",
       "    }\n",
       "\n",
       "    .dataframe thead th {\n",
       "        text-align: right;\n",
       "    }\n",
       "</style>\n",
       "<table border=\"1\" class=\"dataframe\">\n",
       "  <thead>\n",
       "    <tr style=\"text-align: right;\">\n",
       "      <th></th>\n",
       "      <th>mean_&gt;_2sigma_count</th>\n",
       "      <th>range</th>\n",
       "    </tr>\n",
       "  </thead>\n",
       "  <tbody>\n",
       "    <tr>\n",
       "      <th>AccelSec</th>\n",
       "      <td>3</td>\n",
       "      <td>11.9</td>\n",
       "    </tr>\n",
       "    <tr>\n",
       "      <th>TopSpeed_KmH</th>\n",
       "      <td>1</td>\n",
       "      <td>287.0</td>\n",
       "    </tr>\n",
       "    <tr>\n",
       "      <th>Range_Km</th>\n",
       "      <td>3</td>\n",
       "      <td>800.0</td>\n",
       "    </tr>\n",
       "    <tr>\n",
       "      <th>Efficiency_WhKm</th>\n",
       "      <td>6</td>\n",
       "      <td>169.0</td>\n",
       "    </tr>\n",
       "    <tr>\n",
       "      <th>FastCharge_KmH</th>\n",
       "      <td>6</td>\n",
       "      <td>770.0</td>\n",
       "    </tr>\n",
       "    <tr>\n",
       "      <th>Seats</th>\n",
       "      <td>6</td>\n",
       "      <td>3.0</td>\n",
       "    </tr>\n",
       "    <tr>\n",
       "      <th>PriceEuro</th>\n",
       "      <td>5</td>\n",
       "      <td>194871.0</td>\n",
       "    </tr>\n",
       "  </tbody>\n",
       "</table>\n",
       "</div>"
      ],
      "text/plain": [
       "                 mean_>_2sigma_count     range\n",
       "AccelSec                           3      11.9\n",
       "TopSpeed_KmH                       1     287.0\n",
       "Range_Km                           3     800.0\n",
       "Efficiency_WhKm                    6     169.0\n",
       "FastCharge_KmH                     6     770.0\n",
       "Seats                              6       3.0\n",
       "PriceEuro                          5  194871.0"
      ]
     },
     "execution_count": 9,
     "metadata": {},
     "output_type": "execute_result"
    }
   ],
   "source": [
    "dimension_char.iloc[:,9:11]"
   ]
  },
  {
   "cell_type": "markdown",
   "id": "6348b522",
   "metadata": {},
   "source": [
    " [back to contents](#contents)<br><br>"
   ]
  },
  {
   "cell_type": "code",
   "execution_count": 10,
   "id": "e0a81437",
   "metadata": {
    "scrolled": false
   },
   "outputs": [
    {
     "data": {
      "text/plain": [
       "array([[<AxesSubplot:title={'center':'AccelSec'}>,\n",
       "        <AxesSubplot:title={'center':'TopSpeed_KmH'}>,\n",
       "        <AxesSubplot:title={'center':'Range_Km'}>],\n",
       "       [<AxesSubplot:title={'center':'Efficiency_WhKm'}>,\n",
       "        <AxesSubplot:title={'center':'FastCharge_KmH'}>,\n",
       "        <AxesSubplot:title={'center':'Seats'}>],\n",
       "       [<AxesSubplot:title={'center':'PriceEuro'}>, <AxesSubplot:>,\n",
       "        <AxesSubplot:>]], dtype=object)"
      ]
     },
     "execution_count": 10,
     "metadata": {},
     "output_type": "execute_result"
    },
    {
     "data": {
      "image/png": "[encoded data removed]",
      "text/plain": [
       "<Figure size 300x200 with 9 Axes>"
      ]
     },
     "metadata": {
      "needs_background": "light"
     },
     "output_type": "display_data"
    }
   ],
   "source": [
    "df.hist(bins=10)"
   ]
  },
  {
   "cell_type": "markdown",
   "id": "0a135ef7",
   "metadata": {},
   "source": [
    " [back to contents](#contents)<br><br>"
   ]
  },
  {
   "cell_type": "markdown",
   "id": "9837ecae",
   "metadata": {},
   "source": [
    "\n",
    "#### (f) Section Summary :<a id='Summary1'></a>\n",
    "- There are 10 dimensions of the data. Out of which, 7 values are numeric. \n",
    "- There are no nulls in the data. The below box plots shows the spread of the data and the outliers.\n",
    "- There are no duplicates in the data\n",
    "- There are 98 data points.\n",
    "- Range of dimensions:\n",
    "| Item              | No of observation beyond 95% | Range |\n",
    "| :---------------- | :------: | ----: |\n",
    "| AccelSec          |   3   | 11.9 |\n",
    "| TopSpeed_KmH      |   1   | 287.0 |\n",
    "| Range_Km          |   3   | 800.0 |\n",
    "| Efficiency_WhKm   |   6   | 169.0 |\n",
    "| FastCharge_KmH    |   6   | 770.0 |\n",
    "| Seats\t            |   6   |  3.0  |\n",
    "| PriceEuro\t        |   5 |\t 194871.0|\n"
   ]
  },
  {
   "cell_type": "code",
   "execution_count": 87,
   "id": "b18b789e",
   "metadata": {},
   "outputs": [],
   "source": [
    "broader_class=dict(zip([\"A\",\"B\",\"C\",\"D\",\"E\",\"F\",\"N\",\"S\"],[\"small\",\"small\",\"small\",\"Lower Medium D\",\"Luxury E\",\"Luxury F\",\"Truck\",\"Sports\"]))\n",
    "broad_class=pd.DataFrame(broader_class.items(),columns=[\"Segment\",\"class\"])\n",
    "data=df.join(broad_class.set_index('Segment'), on='Segment')"
   ]
  },
  {
   "cell_type": "markdown",
   "id": "c709438d",
   "metadata": {},
   "source": [
    " [back to contents](#contents)<br><br>"
   ]
  },
  {
   "cell_type": "markdown",
   "id": "01b422a1",
   "metadata": {},
   "source": [
    "### 6. Section 3a. Select three dimensions that could be used as predictors and a  fourth dimension as predicted <a id='selectdim'></a>"
   ]
  },
  {
   "cell_type": "markdown",
   "id": "913aef61",
   "metadata": {},
   "source": [
    "#### (a) Visualise all the features with respect to the predicted dimension \"class\"<a id='Visualise1'></a>"
   ]
  },
  {
   "cell_type": "code",
   "execution_count": 12,
   "id": "dced8925",
   "metadata": {},
   "outputs": [
    {
     "data": {
      "text/plain": [
       "<seaborn.axisgrid.PairGrid at 0x1bec6c2d1f0>"
      ]
     },
     "execution_count": 12,
     "metadata": {},
     "output_type": "execute_result"
    },
    {
     "data": {
      "image/png": "[encoded data removed]",
      "text/plain": [
       "<Figure size 707.875x625 with 30 Axes>"
      ]
     },
     "metadata": {
      "needs_background": "light"
     },
     "output_type": "display_data"
    }
   ],
   "source": [
    "columns=[\"TopSpeed_KmH\",\"AccelSec\",\"Range_Km\",\"FastCharge_KmH\",\"Seats\",\"class\"]\n",
    "data_selected=data[columns]\n",
    "sns.pairplot(data_selected,hue=\"class\")"
   ]
  },
  {
   "cell_type": "markdown",
   "id": "6b5381e6",
   "metadata": {},
   "source": [
    " [back to contents](#contents)<br><br>"
   ]
  },
  {
   "cell_type": "markdown",
   "id": "4f339125",
   "metadata": {},
   "source": [
    "#### (b) Exclusion of outliers <a id='outliers'></a>"
   ]
  },
  {
   "cell_type": "markdown",
   "id": "be212397",
   "metadata": {},
   "source": [
    "We have excluded all such data points which are beyond the 95 percentile of the distribution for each major feature. This will help us understand the general basis for classification of the cars into the various segmnets. The extreme variations in each functionality is excluded."
   ]
  },
  {
   "cell_type": "code",
   "execution_count": 13,
   "id": "776745f6",
   "metadata": {},
   "outputs": [],
   "source": [
    "columns=[\"TopSpeed_KmH\",\"AccelSec\",\"Range_Km\",\"FastCharge_KmH\",\"Seats\",\"class\"]\n",
    "X=[\"TopSpeed_KmH\",\"AccelSec\",\"Range_Km\",\"FastCharge_KmH\"]\n",
    "\n",
    "data_selected=data[columns]\n",
    "for i in X:\n",
    "\n",
    "    p95, p5 = np.percentile(data_selected[i], [95, 0])\n",
    "    data_selected = data_selected[data_selected[i]< p95]\n",
    "    data_selected = data_selected[data_selected[i]> p5]"
   ]
  },
  {
   "cell_type": "markdown",
   "id": "b7180146",
   "metadata": {},
   "source": [
    " [back to contents](#contents)<br><br>"
   ]
  },
  {
   "cell_type": "markdown",
   "id": "58c30715",
   "metadata": {},
   "source": [
    "#### (c) Mutual information gain for each feature <a id='MI'></a>"
   ]
  },
  {
   "cell_type": "code",
   "execution_count": 14,
   "id": "3219f06e",
   "metadata": {
    "scrolled": false
   },
   "outputs": [
    {
     "data": {
      "text/plain": [
       "<AxesSubplot:>"
      ]
     },
     "execution_count": 14,
     "metadata": {},
     "output_type": "execute_result"
    },
    {
     "data": {
      "image/png": "[encoded data removed]",
      "text/plain": [
       "<Figure size 300x200 with 1 Axes>"
      ]
     },
     "metadata": {
      "needs_background": "light"
     },
     "output_type": "display_data"
    }
   ],
   "source": [
    "from sklearn.feature_selection import mutual_info_classif\n",
    "le = preprocessing.LabelEncoder()\n",
    "mutual_info = mutual_info_classif(data_selected.iloc[:,:5], le.fit_transform(data_selected.iloc[:,5]))\n",
    "mutual_info = pd.Series(mutual_info)\n",
    "mutual_info.index = data_selected.iloc[:,:5].columns\n",
    "mutual_info.sort_values(ascending=True,inplace=True)\n",
    "mutual_info.plot(kind=\"bar\")"
   ]
  },
  {
   "cell_type": "markdown",
   "id": "b79ec959",
   "metadata": {},
   "source": [
    "#### (d) Variance Threshold for feature selection <a id='VT'></a>"
   ]
  },
  {
   "cell_type": "code",
   "execution_count": 15,
   "id": "5b24c060",
   "metadata": {},
   "outputs": [
    {
     "data": {
      "text/html": [
       "<div>\n",
       "<style scoped>\n",
       "    .dataframe tbody tr th:only-of-type {\n",
       "        vertical-align: middle;\n",
       "    }\n",
       "\n",
       "    .dataframe tbody tr th {\n",
       "        vertical-align: top;\n",
       "    }\n",
       "\n",
       "    .dataframe thead th {\n",
       "        text-align: right;\n",
       "    }\n",
       "</style>\n",
       "<table border=\"1\" class=\"dataframe\">\n",
       "  <thead>\n",
       "    <tr style=\"text-align: right;\">\n",
       "      <th></th>\n",
       "      <th>0</th>\n",
       "    </tr>\n",
       "  </thead>\n",
       "  <tbody>\n",
       "    <tr>\n",
       "      <th>TopSpeed_KmH</th>\n",
       "      <td>110.000000</td>\n",
       "    </tr>\n",
       "    <tr>\n",
       "      <th>AccelSec</th>\n",
       "      <td>2.774182</td>\n",
       "    </tr>\n",
       "    <tr>\n",
       "      <th>Range_Km</th>\n",
       "      <td>260.000000</td>\n",
       "    </tr>\n",
       "    <tr>\n",
       "      <th>FastCharge_KmH</th>\n",
       "      <td>560.000000</td>\n",
       "    </tr>\n",
       "    <tr>\n",
       "      <th>Seats</th>\n",
       "      <td>0.192653</td>\n",
       "    </tr>\n",
       "  </tbody>\n",
       "</table>\n",
       "</div>"
      ],
      "text/plain": [
       "                         0\n",
       "TopSpeed_KmH    110.000000\n",
       "AccelSec          2.774182\n",
       "Range_Km        260.000000\n",
       "FastCharge_KmH  560.000000\n",
       "Seats             0.192653"
      ]
     },
     "execution_count": 15,
     "metadata": {},
     "output_type": "execute_result"
    }
   ],
   "source": [
    "Varthreshold = VarianceThreshold()\n",
    "Varthreshold.fit_transform(data_selected.iloc[:,:5])\n",
    "Variances=pd.Series(Varthreshold.variances_)\n",
    "Variances.index = data_selected.iloc[:,:5].columns\n",
    "pd.DataFrame(Variances)"
   ]
  },
  {
   "cell_type": "markdown",
   "id": "b8a3ab89",
   "metadata": {},
   "source": [
    " [back to contents](#contents)<br><br>"
   ]
  },
  {
   "cell_type": "markdown",
   "id": "e3325269",
   "metadata": {},
   "source": [
    "#### Analysis of intra-group and within-group variance "
   ]
  },
  {
   "cell_type": "code",
   "execution_count": 16,
   "id": "52a0f8d0",
   "metadata": {},
   "outputs": [],
   "source": [
    "result=data_selected.iloc[:,:6]\n",
    "result=result.groupby('class').mean()\n",
    "result=result.div(result.sum(axis=0), axis=1)"
   ]
  },
  {
   "cell_type": "markdown",
   "id": "9f5c58ee",
   "metadata": {},
   "source": [
    "Within group variance<a id='withinvar'></a>"
   ]
  },
  {
   "cell_type": "code",
   "execution_count": 17,
   "id": "41588997",
   "metadata": {},
   "outputs": [
    {
     "data": {
      "text/html": [
       "<div>\n",
       "<style scoped>\n",
       "    .dataframe tbody tr th:only-of-type {\n",
       "        vertical-align: middle;\n",
       "    }\n",
       "\n",
       "    .dataframe tbody tr th {\n",
       "        vertical-align: top;\n",
       "    }\n",
       "\n",
       "    .dataframe thead th {\n",
       "        text-align: right;\n",
       "    }\n",
       "</style>\n",
       "<table border=\"1\" class=\"dataframe\">\n",
       "  <thead>\n",
       "    <tr style=\"text-align: right;\">\n",
       "      <th></th>\n",
       "      <th>TopSpeed_KmH</th>\n",
       "      <th>AccelSec</th>\n",
       "      <th>Range_Km</th>\n",
       "      <th>FastCharge_KmH</th>\n",
       "      <th>Seats</th>\n",
       "    </tr>\n",
       "    <tr>\n",
       "      <th>class</th>\n",
       "      <th></th>\n",
       "      <th></th>\n",
       "      <th></th>\n",
       "      <th></th>\n",
       "      <th></th>\n",
       "    </tr>\n",
       "  </thead>\n",
       "  <tbody>\n",
       "    <tr>\n",
       "      <th>Luxury F</th>\n",
       "      <td>0.000000</td>\n",
       "      <td>0.125000</td>\n",
       "      <td>200.000000</td>\n",
       "      <td>800.000000</td>\n",
       "      <td>0.00000</td>\n",
       "    </tr>\n",
       "    <tr>\n",
       "      <th>Luxury E</th>\n",
       "      <td>67.777778</td>\n",
       "      <td>1.344556</td>\n",
       "      <td>1658.055556</td>\n",
       "      <td>6401.111111</td>\n",
       "      <td>0.00000</td>\n",
       "    </tr>\n",
       "    <tr>\n",
       "      <th>small</th>\n",
       "      <td>224.890842</td>\n",
       "      <td>1.865930</td>\n",
       "      <td>5639.384829</td>\n",
       "      <td>13685.291397</td>\n",
       "      <td>0.12951</td>\n",
       "    </tr>\n",
       "    <tr>\n",
       "      <th>Lower Medium D</th>\n",
       "      <td>287.500000</td>\n",
       "      <td>0.475000</td>\n",
       "      <td>1427.777778</td>\n",
       "      <td>11286.111111</td>\n",
       "      <td>0.00000</td>\n",
       "    </tr>\n",
       "    <tr>\n",
       "      <th>Truck</th>\n",
       "      <td>800.000000</td>\n",
       "      <td>4.500000</td>\n",
       "      <td>1800.000000</td>\n",
       "      <td>101250.000000</td>\n",
       "      <td>0.50000</td>\n",
       "    </tr>\n",
       "  </tbody>\n",
       "</table>\n",
       "</div>"
      ],
      "text/plain": [
       "                TopSpeed_KmH  AccelSec     Range_Km  FastCharge_KmH    Seats\n",
       "class                                                                       \n",
       "Luxury F            0.000000  0.125000   200.000000      800.000000  0.00000\n",
       "Luxury E           67.777778  1.344556  1658.055556     6401.111111  0.00000\n",
       "small             224.890842  1.865930  5639.384829    13685.291397  0.12951\n",
       "Lower Medium D    287.500000  0.475000  1427.777778    11286.111111  0.00000\n",
       "Truck             800.000000  4.500000  1800.000000   101250.000000  0.50000"
      ]
     },
     "execution_count": 17,
     "metadata": {},
     "output_type": "execute_result"
    }
   ],
   "source": [
    "data_selected.groupby('class').var().sort_values(\"TopSpeed_KmH\")"
   ]
  },
  {
   "cell_type": "code",
   "execution_count": 18,
   "id": "44b68074",
   "metadata": {},
   "outputs": [
    {
     "data": {
      "text/plain": [
       "<AxesSubplot:xlabel='class'>"
      ]
     },
     "execution_count": 18,
     "metadata": {},
     "output_type": "execute_result"
    },
    {
     "data": {
      "image/png": "[encoded data removed]",
      "text/plain": [
       "<Figure size 300x200 with 1 Axes>"
      ]
     },
     "metadata": {
      "needs_background": "light"
     },
     "output_type": "display_data"
    }
   ],
   "source": [
    "# plt.rcParams['figure.dpi'] = 50\n",
    "result.plot()"
   ]
  },
  {
   "cell_type": "markdown",
   "id": "32a94f29",
   "metadata": {},
   "source": [
    "We can observe that the means of different groups with respect to various features. The mean values of _seat_ and _Range_ are varying the least. The intragroup variance for the seats is also very less. "
   ]
  },
  {
   "cell_type": "markdown",
   "id": "f40c9c30",
   "metadata": {},
   "source": [
    " [back to contents](#contents)<br><br>"
   ]
  },
  {
   "cell_type": "markdown",
   "id": "c6ce1402",
   "metadata": {},
   "source": [
    "#### (e) Correlation between different variables<a id='corr'></a>"
   ]
  },
  {
   "cell_type": "code",
   "execution_count": 19,
   "id": "d4a1f2e1",
   "metadata": {},
   "outputs": [
    {
     "data": {
      "text/html": [
       "<div>\n",
       "<style scoped>\n",
       "    .dataframe tbody tr th:only-of-type {\n",
       "        vertical-align: middle;\n",
       "    }\n",
       "\n",
       "    .dataframe tbody tr th {\n",
       "        vertical-align: top;\n",
       "    }\n",
       "\n",
       "    .dataframe thead th {\n",
       "        text-align: right;\n",
       "    }\n",
       "</style>\n",
       "<table border=\"1\" class=\"dataframe\">\n",
       "  <thead>\n",
       "    <tr style=\"text-align: right;\">\n",
       "      <th></th>\n",
       "      <th>TopSpeed_KmH</th>\n",
       "      <th>AccelSec</th>\n",
       "      <th>Range_Km</th>\n",
       "      <th>FastCharge_KmH</th>\n",
       "      <th>Seats</th>\n",
       "    </tr>\n",
       "  </thead>\n",
       "  <tbody>\n",
       "    <tr>\n",
       "      <th>TopSpeed_KmH</th>\n",
       "      <td>1.000000</td>\n",
       "      <td>-0.829203</td>\n",
       "      <td>0.466640</td>\n",
       "      <td>0.685917</td>\n",
       "      <td>-0.120960</td>\n",
       "    </tr>\n",
       "    <tr>\n",
       "      <th>AccelSec</th>\n",
       "      <td>-0.829203</td>\n",
       "      <td>1.000000</td>\n",
       "      <td>-0.530501</td>\n",
       "      <td>-0.662145</td>\n",
       "      <td>0.188878</td>\n",
       "    </tr>\n",
       "    <tr>\n",
       "      <th>Range_Km</th>\n",
       "      <td>0.466640</td>\n",
       "      <td>-0.530501</td>\n",
       "      <td>1.000000</td>\n",
       "      <td>0.694090</td>\n",
       "      <td>0.114834</td>\n",
       "    </tr>\n",
       "    <tr>\n",
       "      <th>FastCharge_KmH</th>\n",
       "      <td>0.685917</td>\n",
       "      <td>-0.662145</td>\n",
       "      <td>0.694090</td>\n",
       "      <td>1.000000</td>\n",
       "      <td>-0.064539</td>\n",
       "    </tr>\n",
       "    <tr>\n",
       "      <th>Seats</th>\n",
       "      <td>-0.120960</td>\n",
       "      <td>0.188878</td>\n",
       "      <td>0.114834</td>\n",
       "      <td>-0.064539</td>\n",
       "      <td>1.000000</td>\n",
       "    </tr>\n",
       "  </tbody>\n",
       "</table>\n",
       "</div>"
      ],
      "text/plain": [
       "                TopSpeed_KmH  AccelSec  Range_Km  FastCharge_KmH     Seats\n",
       "TopSpeed_KmH        1.000000 -0.829203  0.466640        0.685917 -0.120960\n",
       "AccelSec           -0.829203  1.000000 -0.530501       -0.662145  0.188878\n",
       "Range_Km            0.466640 -0.530501  1.000000        0.694090  0.114834\n",
       "FastCharge_KmH      0.685917 -0.662145  0.694090        1.000000 -0.064539\n",
       "Seats              -0.120960  0.188878  0.114834       -0.064539  1.000000"
      ]
     },
     "execution_count": 19,
     "metadata": {},
     "output_type": "execute_result"
    }
   ],
   "source": [
    "data_selected.iloc[:,:5].corr()"
   ]
  },
  {
   "cell_type": "markdown",
   "id": "7117decf",
   "metadata": {},
   "source": [
    " [back to contents](#contents)<br><br>"
   ]
  },
  {
   "cell_type": "markdown",
   "id": "85a4add6",
   "metadata": {},
   "source": [
    "\n",
    "#### (f) Section Summary :<a id='Summary2'></a>\n",
    "\n",
    "We can observe from the above analysis that:\n",
    "1. Mutual Information gain is maximum for TopSpeed_KmH, AccelSec, Seats and FastCharge_KmH.\n",
    "2. Variances of _seats_ dimension is very less. It is very low.\n",
    "\n",
    "So, we choose TopSpeed_KmH, AccelSec, and FastCharge_KmH for our further analysis."
   ]
  },
  {
   "cell_type": "markdown",
   "id": "a1af5328",
   "metadata": {},
   "source": [
    "### Section 3b. Visualize the values of the predictor dimensions and the predicted dimension.<a id='Visualisedim'></a>"
   ]
  },
  {
   "cell_type": "code",
   "execution_count": 32,
   "id": "e9ad633d",
   "metadata": {
    "scrolled": false
   },
   "outputs": [
    {
     "name": "stdout",
     "output_type": "stream",
     "text": [
      "$\\mathdefault{0}$ $\\mathdefault{1}$ $\\mathdefault{2}$ $\\mathdefault{3}$ $\\mathdefault{4}$ $\\mathdefault{5}$\n"
     ]
    },
    {
     "data": {
      "image/png": "[encoded data removed]",
      "text/plain": [
       "<Figure size 2400x1800 with 1 Axes>"
      ]
     },
     "metadata": {
      "needs_background": "light"
     },
     "output_type": "display_data"
    }
   ],
   "source": [
    "%matplotlib inline\n",
    "columns=[\"TopSpeed_KmH\",\"AccelSec\",\"FastCharge_KmH\",\"class\"]\n",
    "data_selected=data[columns]\n",
    "le = preprocessing.LabelEncoder()\n",
    "\n",
    "plt.rcParams['figure.dpi'] = 200\n",
    "fig = plt.figure(1, figsize=(12, 9))\n",
    "fig.tight_layout(pad=5.0)\n",
    "\n",
    "for i in range (1,2):\n",
    "    \n",
    "    state=220+i\n",
    "    matplotlib.rcParams['figure.figsize'] = [600, 600]\n",
    "    ax = fig.add_subplot(state, projection=\"3d\")\n",
    "    elev=-10+i*45\n",
    "    azim=-25+i*45\n",
    "    \n",
    "    ax.view_init(elev=elev, azim=azim)\n",
    "    sc=ax.scatter(\n",
    "        data_selected.iloc[:, 0],\n",
    "        data_selected.iloc[:, 1],\n",
    "        data_selected.iloc[:, 2],\n",
    "        c=le.fit_transform(data_selected.iloc[:, 3]),\n",
    "        cmap=plt.cm.Set1,\n",
    "        marker=\"X\",\n",
    "        s=40,)\n",
    "    \n",
    "    ax.set_title(\"Electric Car Segment (elev - \"+str(elev)+\"  azim - \"+str(azim)+\")\")\n",
    "    ax.set_xlabel(columns[0])\n",
    "    #ax.xaxis.set_ticklabels([])\n",
    "    ax.set_ylabel(columns[1])\n",
    "    #ax.yaxis.set_ticklabels([])\n",
    "    ax.set_zlabel(columns[2])\n",
    "    #ax.zaxis.set_ticklabels([])\n",
    "    plt.rcParams['figure.dpi'] = 200\n",
    "    \n",
    "handles = sc.legend_elements(num=[0,1,2,3,4,5])[0]  # extract the handles from the existing scatter plot\n",
    "{0: 'Lower Medium D', 2: 'Luxury F', 1: 'Luxury E', 4: 'small', 3: 'Truck'}\n",
    "\n",
    "A=le.fit_transform(data_selected.iloc[:, 3])\n",
    "C=dict(zip(A,le.inverse_transform(A)))\n",
    "D=list(dict(sorted(C.items())).values())\n",
    "\n",
    "ax.legend(handles=handles, labels=D)\n",
    "# plt.legend(*sc.legend_elements(), bbox_to_anchor=(1.05, 1), loc=2)\n",
    "print(*sc.legend_elements()[1])\n",
    "fig.tight_layout(pad=5.0)\n",
    "plt.show()"
   ]
  },
  {
   "cell_type": "markdown",
   "id": "637afd8c",
   "metadata": {},
   "source": [
    " [back to contents](#contents)<br><br>"
   ]
  },
  {
   "cell_type": "markdown",
   "id": "367a27af",
   "metadata": {},
   "source": [
    "### Section 3c. Predict the class of the car using the selected features.<a id='predict1'></a>\n"
   ]
  },
  {
   "cell_type": "markdown",
   "id": "324ab8b3",
   "metadata": {},
   "source": [
    "####  (a). Predict the calculate and calculate accuracy.<a id='predict2'></a>"
   ]
  },
  {
   "cell_type": "code",
   "execution_count": 147,
   "id": "b6186b3c",
   "metadata": {},
   "outputs": [
    {
     "name": "stdout",
     "output_type": "stream",
     "text": [
      "best_accuracy_pca: 0.7142857142857143\n"
     ]
    }
   ],
   "source": [
    "X = data_selected.drop('class', axis=1)\n",
    "y = data_selected['class'].copy()\n",
    "\n",
    "# Split the data into training and test sets\n",
    "X_train, X_test, y_train, y_test = train_test_split(X, y, test_size=0.5,random_state=1)\n",
    "\n",
    "# Scale the features using StandardScaler\n",
    "best_accuracy_pca=0\n",
    "for i in range(1,20):\n",
    "    scaler = StandardScaler()\n",
    "    X_train = scaler.fit_transform(X_train)\n",
    "    X_test = scaler.transform(X_test)\n",
    "    knn = KNeighborsClassifier(n_neighbors=i)\n",
    "    knn.fit(X_train, y_train)\n",
    "    y_pred = knn.predict(X_test)\n",
    "    accuracy = accuracy_score(y_test, y_pred)\n",
    "    if accuracy>best_accuracy_pca:\n",
    "        best_accuracy_pca=accuracy \n",
    "print(\"best_accuracy_pca:\", best_accuracy_pca*1000/1000.0)"
   ]
  },
  {
   "cell_type": "markdown",
   "id": "0d2d7415",
   "metadata": {},
   "source": [
    "\n",
    "#### (b) Section Summary :<a id='Summary2'></a>\n"
   ]
  },
  {
   "cell_type": "markdown",
   "id": "3b21e07e",
   "metadata": {},
   "source": [
    "1. K-nearest neighbour(KNN) alogorithm was used to solve the classification problem.\n",
    "2. Data was first standardised and the the KNN algorithm from sklearn was used.\n",
    "3. The accuracy of the prediction is 63%."
   ]
  },
  {
   "cell_type": "markdown",
   "id": "187150d0",
   "metadata": {},
   "source": [
    " [back to contents](#contents)<br><br>"
   ]
  },
  {
   "cell_type": "markdown",
   "id": "49d1e4fc",
   "metadata": {},
   "source": [
    "### Section 4. Reduction of the dimensions  using PCA and prediction of class of the car.<a id='PredPCA'></a>"
   ]
  },
  {
   "cell_type": "markdown",
   "id": "ac01cfd9",
   "metadata": {},
   "source": [
    "#### a. Reduction of the dimensions  using PCA <a id='ReducedimPCA'></a>"
   ]
  },
  {
   "cell_type": "code",
   "execution_count": 25,
   "id": "72312f51",
   "metadata": {},
   "outputs": [],
   "source": [
    "columns=[\"TopSpeed_KmH\",\"AccelSec\",\"Range_Km\",\"FastCharge_KmH\",\"Seats\",\"class\"]\n",
    "data_selected_pca=data[columns]\n",
    "X=[\"TopSpeed_KmH\",\"AccelSec\",\"Range_Km\",\"FastCharge_KmH\"]\n",
    "\n",
    "for i in X:\n",
    "    p95, p5 = np.percentile(data_selected_pca[i], [95, 0])\n",
    "    data_selected = data_selected_pca[data_selected_pca[i]< p95]\n",
    "    data_selected = data_selected_pca[data_selected_pca[i]> p5]\n",
    "scaler1 = StandardScaler()    \n",
    "data_selected_scaled = scaler1.fit_transform(data_selected_pca.iloc[:,:5])\n",
    "pca1=decomposition.PCA(n_components=3)\n",
    "data_reduced_pca = pca1.fit_transform(data_selected_scaled)\n",
    "data_reduced_pca_orig = np.dot(data_reduced_pca, pca1.components_)\n",
    "data_reduced = scaler1.inverse_transform(data_reduced_pca_orig)"
   ]
  },
  {
   "cell_type": "code",
   "execution_count": 60,
   "id": "574a784d",
   "metadata": {},
   "outputs": [
    {
     "data": {
      "text/plain": [
       "array([410, 2.1, 970, 920, 4, 'Sports'], dtype=object)"
      ]
     },
     "execution_count": 60,
     "metadata": {},
     "output_type": "execute_result"
    }
   ],
   "source": [
    "data_selected_pca.values[0]"
   ]
  },
  {
   "cell_type": "code",
   "execution_count": 48,
   "id": "60ad2ee0",
   "metadata": {},
   "outputs": [
    {
     "data": {
      "text/plain": [
       "array([ 7.30469625, -1.72425952,  2.55709983])"
      ]
     },
     "execution_count": 48,
     "metadata": {},
     "output_type": "execute_result"
    }
   ],
   "source": [
    "data_reduced_pca[0]"
   ]
  },
  {
   "cell_type": "code",
   "execution_count": 45,
   "id": "d7b75467",
   "metadata": {},
   "outputs": [
    {
     "data": {
      "text/plain": [
       "array([[ 0.51545489, -0.50462309,  0.47464773,  0.49947755,  0.06995363],\n",
       "       [-0.11150945,  0.09263594,  0.0883945 , -0.01334094,  0.9853896 ],\n",
       "       [-0.14846612,  0.47310651,  0.84377299, -0.15116254, -0.13901464]])"
      ]
     },
     "execution_count": 45,
     "metadata": {},
     "output_type": "execute_result"
    }
   ],
   "source": [
    "pca1.components_"
   ]
  },
  {
   "cell_type": "code",
   "execution_count": 49,
   "id": "c62aa1e8",
   "metadata": {},
   "outputs": [
    {
     "data": {
      "text/plain": [
       "array([ 3.57786991, -2.63606621,  5.47235419,  3.2849973 , -1.54355171])"
      ]
     },
     "execution_count": 49,
     "metadata": {},
     "output_type": "execute_result"
    }
   ],
   "source": [
    "data_reduced_pca_orig[0]"
   ]
  },
  {
   "cell_type": "code",
   "execution_count": 26,
   "id": "abd28b24",
   "metadata": {},
   "outputs": [
    {
     "name": "stdout",
     "output_type": "stream",
     "text": [
      "pca1.components_ \n",
      " [[ 0.51545489 -0.50462309  0.47464773  0.49947755  0.06995363]\n",
      " [-0.11150945  0.09263594  0.0883945  -0.01334094  0.9853896 ]\n",
      " [-0.14846612  0.47310651  0.84377299 -0.15116254 -0.13901464]]\n",
      "pca1.explained_variance_ratio_ \n",
      " [0.6495209  0.20109106 0.07059028]\n"
     ]
    }
   ],
   "source": [
    "print(\"pca1.components_ \\n\",pca1.components_)\n",
    "print(\"pca1.explained_variance_ratio_ \\n\",pca1.explained_variance_ratio_)"
   ]
  },
  {
   "cell_type": "markdown",
   "id": "75a5f530",
   "metadata": {},
   "source": [
    " [back to contents](#contents)<br><br>"
   ]
  },
  {
   "cell_type": "markdown",
   "id": "5319475e",
   "metadata": {},
   "source": [
    "#### b. Run regression/classification algorithms to check and check quality of the prediction.  <a id='regressPCA'></a>"
   ]
  },
  {
   "cell_type": "code",
   "execution_count": 148,
   "id": "ad58191f",
   "metadata": {},
   "outputs": [
    {
     "name": "stdout",
     "output_type": "stream",
     "text": [
      "best_accuracy_pca: 0.7346938775510204\n",
      "n_neighbors: 3\n"
     ]
    }
   ],
   "source": [
    "X = data_reduced_pca.copy()\n",
    "y = data_selected_pca['class'].copy()\n",
    "\n",
    "# Split the data into training and test sets\n",
    "X_train_pca, X_test_pca, y_train_pca, y_test_pca = train_test_split(X, y, test_size=0.5,random_state=1)\n",
    "\n",
    "# Scale the features using StandardScaler\n",
    "best_accuracy_pca=0\n",
    "\n",
    "for i in range(1,20):\n",
    "    scaler = StandardScaler()\n",
    "    X_train_pca = scaler.fit_transform(X_train_pca)\n",
    "    X_test_pca = scaler.transform(X_test_pca)\n",
    "    knn_pca = KNeighborsClassifier(n_neighbors=i)\n",
    "    knn_pca.fit(X_train_pca, y_train_pca)\n",
    "    y_pred_pca = knn_pca.predict(X_test_pca) \n",
    "    accuracy = accuracy_score(y_test_pca, y_pred_pca)\n",
    "    if accuracy>best_accuracy_pca:\n",
    "        best_accuracy_pca=accuracy\n",
    "        n_neighbors_best=i\n",
    "print(\"best_accuracy_pca:\", best_accuracy_pca*1000/1000.0)\n",
    "print(\"n_neighbors:\", n_neighbors_best)"
   ]
  },
  {
   "cell_type": "markdown",
   "id": "7caf21cd",
   "metadata": {},
   "source": [
    " [back to contents](#contents)<br><br>"
   ]
  },
  {
   "cell_type": "markdown",
   "id": "c0d425dd",
   "metadata": {},
   "source": [
    "#### c. Visualisation of the PCA loadings  <a id='visualisePCA'></a>"
   ]
  },
  {
   "cell_type": "code",
   "execution_count": 62,
   "id": "61515575",
   "metadata": {
    "scrolled": false
   },
   "outputs": [
    {
     "data": {
      "application/vnd.plotly.v1+json": {
       "config": {
        "plotlyServerURL": "https://plot.ly"
       },
       "data": [
        {
         "hovertemplate": "0=%{x}<br>1=%{y}<extra></extra>",
         "legendgroup": "",
         "marker": {
          "color": "#636efa",
          "symbol": "circle"
         },
         "mode": "markers",
         "name": "",
         "orientation": "v",
         "showlegend": false,
         "type": "scatter",
         "x": [
          7.304696246659199,
          2.740783464391433,
          3.1725162485085874,
          2.6143501870479313,
          2.668038436377851,
          2.3670231388667973,
          2.3153864139615283,
          2.013123274432692,
          2.725685630290328,
          2.084429529241316,
          2.4088447155654764,
          3.146103937296697,
          2.9503969191066206,
          2.6082106750350906,
          2.7274104378243087,
          1.138978995389423,
          2.5123694658702282,
          0.8750359658613711,
          3.517856744214326,
          1.0104052257147438,
          1.4314410194398997,
          0.8913587916682171,
          0.4515219301239875,
          0.7050102341468992,
          1.0017832861127098,
          0.8888174362863184,
          0.31492023560200316,
          1.7312031393976592,
          0.5995941153243276,
          1.6995147479321568,
          0.5890117958850258,
          0.2708529165033426,
          -0.14531932032111827,
          -0.18149049408360204,
          -0.03489482587662538,
          0.9636503378427447,
          0.4202928339810415,
          0.40381611858356425,
          0.33212908174510364,
          -0.08411749022123342,
          0.5561459566783189,
          0.33021640792833573,
          -0.076036190353009,
          0.545767383752948,
          0.5661876363838111,
          0.6110687915796498,
          -0.5768365187870836,
          -0.6267260496048435,
          -0.5112931795384295,
          -0.3358092086891869,
          -1.756743835617821,
          0.15224682485718702,
          -1.336573102107962,
          0.16323130178883832,
          -0.4708141123790314,
          0.1917328542879261,
          -0.0737304299132965,
          0.33877241046828743,
          -0.8174745442598023,
          -1.6665870714083797,
          0.16331336808069472,
          -0.3147826684728429,
          -0.3147826684728429,
          -1.6974108254262639,
          -0.5716807899619364,
          -1.303150854877973,
          -0.6108149024028257,
          -1.9491905857255385,
          -1.9076066778316911,
          -1.8972031764446702,
          -1.1012396260870223,
          -1.512378558827912,
          -1.3081760325192797,
          -1.267335527257553,
          -2.001160003060942,
          -1.2222124406397623,
          -1.1033220470866663,
          -1.596446674202331,
          -1.596446674202331,
          -2.13321440724606,
          -0.984983849054025,
          -0.984983849054025,
          -1.4595059355576685,
          -1.6862339130556585,
          0.137067808400792,
          -2.1854833392402004,
          -2.4305263708105596,
          -1.711933713923459,
          -1.3905141093397544,
          -1.7462790382990219,
          -1.7233668369664863,
          -1.8645179727281374,
          -2.1510718941309936,
          -2.3932117486379263,
          -3.130987104408986,
          -3.0493060938855328,
          -3.130987104408986,
          -3.225420029028449
         ],
         "xaxis": "x",
         "y": [
          -1.72425952231465,
          -0.20710983041454137,
          -0.2499676112247662,
          -1.7471352323624205,
          -1.7228659535561488,
          -1.6867968341922883,
          2.6701250591873467,
          2.7444499630088646,
          -1.6459861161935687,
          -1.6804199470366306,
          -0.12302054569050691,
          -0.09310548732446468,
          2.6766567981928038,
          -1.6361482555695568,
          -0.12314450335933011,
          -0.1508231942658949,
          2.8006107926314705,
          -0.13634079222278309,
          1.558113668560404,
          -0.12706606524774466,
          -0.07604695945226211,
          -0.0369507131837304,
          -0.0540317231971799,
          -0.04259908138551977,
          -0.027009716944418845,
          0.010382004343538915,
          -0.04952215768497125,
          -0.04079181036758595,
          -0.06447067469215138,
          1.4669633689165826,
          0.008918709305261206,
          0.09007461977812312,
          -0.02435531627657877,
          0.037704561524472956,
          -0.01441432003726719,
          1.513243464719226,
          0.006141289668058804,
          0.08697197815258526,
          0.05435721393428759,
          0.022662115866804295,
          0.0004030508822418696,
          0.1381571988926009,
          0.05885278477558598,
          0.06700932205474525,
          0.06326068409693675,
          0.07385874263571061,
          0.14769876556955888,
          0.14903130409810503,
          0.14704170327009655,
          0.17133860297080128,
          0.14258851069661135,
          0.1989688601276804,
          0.08944038052182922,
          0.14508173447132933,
          0.11787778798643318,
          0.17752376542230264,
          0.22625605887381287,
          -1.2977057905879574,
          0.16659166750832186,
          0.19552263210042584,
          -1.235283862939327,
          0.11589739412323545,
          0.11589739412323545,
          0.17915871388140273,
          0.18580739072267194,
          -1.4086128435464078,
          0.11772880547635108,
          0.15512091634224828,
          0.15964704871397853,
          0.17975960489081005,
          0.20977759901059967,
          0.17013589323791267,
          0.13264951365982786,
          0.12515223774421094,
          0.10061336831640705,
          0.1282438134025571,
          0.15537852342767855,
          -1.2936079782359025,
          -1.2936079782359025,
          0.13195342443704253,
          0.1262818334689809,
          0.1262818334689809,
          -1.3646107427008651,
          -1.4015229226627848,
          0.4149814188532194,
          -1.3576882063246654,
          -1.3127045508309636,
          0.10565696343931824,
          3.155089226788708,
          0.12527045886230934,
          0.24364276871378512,
          0.15835113818312335,
          0.33158272151274676,
          0.2864885824413158,
          -1.14874696483674,
          -1.1637415166679739,
          -1.14874696483674,
          3.250534934615575
         ],
         "yaxis": "y"
        }
       ],
       "layout": {
        "annotations": [
         {
          "ax": 0,
          "ay": 0,
          "text": "TopSpeed_KmH",
          "x": 1.4005243356952568,
          "xanchor": "center",
          "y": -0.16858211229870756,
          "yanchor": "bottom"
         },
         {
          "ax": 0,
          "ay": 0,
          "text": "AccelSec",
          "x": -1.3710936401404372,
          "xanchor": "center",
          "y": 0.1400487773338985,
          "yanchor": "bottom"
         },
         {
          "ax": 0,
          "ay": 0,
          "text": "FastCharge_KmH",
          "x": 1.2896486391543838,
          "xanchor": "center",
          "y": 0.13363648516085092,
          "yanchor": "bottom"
         },
         {
          "ax": 0,
          "ay": 0,
          "text": "class",
          "x": 1.357112875797311,
          "xanchor": "center",
          "y": -0.020169082561959685,
          "yanchor": "bottom"
         }
        ],
        "legend": {
         "tracegroupgap": 0
        },
        "margin": {
         "t": 60
        },
        "shapes": [
         {
          "type": "line",
          "x0": 0,
          "x1": 2.334207226158761,
          "y0": 0,
          "y1": -0.5057463368961227
         },
         {
          "type": "line",
          "x0": 0,
          "x1": -2.2851560669007287,
          "y0": 0,
          "y1": 0.42014633200169554
         },
         {
          "type": "line",
          "x0": 0,
          "x1": 2.1494143985906398,
          "y0": 0,
          "y1": 0.40090945548255275
         },
         {
          "type": "line",
          "x0": 0,
          "x1": 2.2618547929955186,
          "y0": 0,
          "y1": -0.060507247685879055
         }
        ],
        "template": {
         "data": {
          "bar": [
           {
            "error_x": {
             "color": "#2a3f5f"
            },
            "error_y": {
             "color": "#2a3f5f"
            },
            "marker": {
             "line": {
              "color": "#E5ECF6",
              "width": 0.5
             },
             "pattern": {
              "fillmode": "overlay",
              "size": 10,
              "solidity": 0.2
             }
            },
            "type": "bar"
           }
          ],
          "barpolar": [
           {
            "marker": {
             "line": {
              "color": "#E5ECF6",
              "width": 0.5
             },
             "pattern": {
              "fillmode": "overlay",
              "size": 10,
              "solidity": 0.2
             }
            },
            "type": "barpolar"
           }
          ],
          "carpet": [
           {
            "aaxis": {
             "endlinecolor": "#2a3f5f",
             "gridcolor": "white",
             "linecolor": "white",
             "minorgridcolor": "white",
             "startlinecolor": "#2a3f5f"
            },
            "baxis": {
             "endlinecolor": "#2a3f5f",
             "gridcolor": "white",
             "linecolor": "white",
             "minorgridcolor": "white",
             "startlinecolor": "#2a3f5f"
            },
            "type": "carpet"
           }
          ],
          "choropleth": [
           {
            "colorbar": {
             "outlinewidth": 0,
             "ticks": ""
            },
            "type": "choropleth"
           }
          ],
          "contour": [
           {
            "colorbar": {
             "outlinewidth": 0,
             "ticks": ""
            },
            "colorscale": [
             [
              0,
              "#0d0887"
             ],
             [
              0.1111111111111111,
              "#46039f"
             ],
             [
              0.2222222222222222,
              "#7201a8"
             ],
             [
              0.3333333333333333,
              "#9c179e"
             ],
             [
              0.4444444444444444,
              "#bd3786"
             ],
             [
              0.5555555555555556,
              "#d8576b"
             ],
             [
              0.6666666666666666,
              "#ed7953"
             ],
             [
              0.7777777777777778,
              "#fb9f3a"
             ],
             [
              0.8888888888888888,
              "#fdca26"
             ],
             [
              1,
              "#f0f921"
             ]
            ],
            "type": "contour"
           }
          ],
          "contourcarpet": [
           {
            "colorbar": {
             "outlinewidth": 0,
             "ticks": ""
            },
            "type": "contourcarpet"
           }
          ],
          "heatmap": [
           {
            "colorbar": {
             "outlinewidth": 0,
             "ticks": ""
            },
            "colorscale": [
             [
              0,
              "#0d0887"
             ],
             [
              0.1111111111111111,
              "#46039f"
             ],
             [
              0.2222222222222222,
              "#7201a8"
             ],
             [
              0.3333333333333333,
              "#9c179e"
             ],
             [
              0.4444444444444444,
              "#bd3786"
             ],
             [
              0.5555555555555556,
              "#d8576b"
             ],
             [
              0.6666666666666666,
              "#ed7953"
             ],
             [
              0.7777777777777778,
              "#fb9f3a"
             ],
             [
              0.8888888888888888,
              "#fdca26"
             ],
             [
              1,
              "#f0f921"
             ]
            ],
            "type": "heatmap"
           }
          ],
          "heatmapgl": [
           {
            "colorbar": {
             "outlinewidth": 0,
             "ticks": ""
            },
            "colorscale": [
             [
              0,
              "#0d0887"
             ],
             [
              0.1111111111111111,
              "#46039f"
             ],
             [
              0.2222222222222222,
              "#7201a8"
             ],
             [
              0.3333333333333333,
              "#9c179e"
             ],
             [
              0.4444444444444444,
              "#bd3786"
             ],
             [
              0.5555555555555556,
              "#d8576b"
             ],
             [
              0.6666666666666666,
              "#ed7953"
             ],
             [
              0.7777777777777778,
              "#fb9f3a"
             ],
             [
              0.8888888888888888,
              "#fdca26"
             ],
             [
              1,
              "#f0f921"
             ]
            ],
            "type": "heatmapgl"
           }
          ],
          "histogram": [
           {
            "marker": {
             "pattern": {
              "fillmode": "overlay",
              "size": 10,
              "solidity": 0.2
             }
            },
            "type": "histogram"
           }
          ],
          "histogram2d": [
           {
            "colorbar": {
             "outlinewidth": 0,
             "ticks": ""
            },
            "colorscale": [
             [
              0,
              "#0d0887"
             ],
             [
              0.1111111111111111,
              "#46039f"
             ],
             [
              0.2222222222222222,
              "#7201a8"
             ],
             [
              0.3333333333333333,
              "#9c179e"
             ],
             [
              0.4444444444444444,
              "#bd3786"
             ],
             [
              0.5555555555555556,
              "#d8576b"
             ],
             [
              0.6666666666666666,
              "#ed7953"
             ],
             [
              0.7777777777777778,
              "#fb9f3a"
             ],
             [
              0.8888888888888888,
              "#fdca26"
             ],
             [
              1,
              "#f0f921"
             ]
            ],
            "type": "histogram2d"
           }
          ],
          "histogram2dcontour": [
           {
            "colorbar": {
             "outlinewidth": 0,
             "ticks": ""
            },
            "colorscale": [
             [
              0,
              "#0d0887"
             ],
             [
              0.1111111111111111,
              "#46039f"
             ],
             [
              0.2222222222222222,
              "#7201a8"
             ],
             [
              0.3333333333333333,
              "#9c179e"
             ],
             [
              0.4444444444444444,
              "#bd3786"
             ],
             [
              0.5555555555555556,
              "#d8576b"
             ],
             [
              0.6666666666666666,
              "#ed7953"
             ],
             [
              0.7777777777777778,
              "#fb9f3a"
             ],
             [
              0.8888888888888888,
              "#fdca26"
             ],
             [
              1,
              "#f0f921"
             ]
            ],
            "type": "histogram2dcontour"
           }
          ],
          "mesh3d": [
           {
            "colorbar": {
             "outlinewidth": 0,
             "ticks": ""
            },
            "type": "mesh3d"
           }
          ],
          "parcoords": [
           {
            "line": {
             "colorbar": {
              "outlinewidth": 0,
              "ticks": ""
             }
            },
            "type": "parcoords"
           }
          ],
          "pie": [
           {
            "automargin": true,
            "type": "pie"
           }
          ],
          "scatter": [
           {
            "marker": {
             "colorbar": {
              "outlinewidth": 0,
              "ticks": ""
             }
            },
            "type": "scatter"
           }
          ],
          "scatter3d": [
           {
            "line": {
             "colorbar": {
              "outlinewidth": 0,
              "ticks": ""
             }
            },
            "marker": {
             "colorbar": {
              "outlinewidth": 0,
              "ticks": ""
             }
            },
            "type": "scatter3d"
           }
          ],
          "scattercarpet": [
           {
            "marker": {
             "colorbar": {
              "outlinewidth": 0,
              "ticks": ""
             }
            },
            "type": "scattercarpet"
           }
          ],
          "scattergeo": [
           {
            "marker": {
             "colorbar": {
              "outlinewidth": 0,
              "ticks": ""
             }
            },
            "type": "scattergeo"
           }
          ],
          "scattergl": [
           {
            "marker": {
             "colorbar": {
              "outlinewidth": 0,
              "ticks": ""
             }
            },
            "type": "scattergl"
           }
          ],
          "scattermapbox": [
           {
            "marker": {
             "colorbar": {
              "outlinewidth": 0,
              "ticks": ""
             }
            },
            "type": "scattermapbox"
           }
          ],
          "scatterpolar": [
           {
            "marker": {
             "colorbar": {
              "outlinewidth": 0,
              "ticks": ""
             }
            },
            "type": "scatterpolar"
           }
          ],
          "scatterpolargl": [
           {
            "marker": {
             "colorbar": {
              "outlinewidth": 0,
              "ticks": ""
             }
            },
            "type": "scatterpolargl"
           }
          ],
          "scatterternary": [
           {
            "marker": {
             "colorbar": {
              "outlinewidth": 0,
              "ticks": ""
             }
            },
            "type": "scatterternary"
           }
          ],
          "surface": [
           {
            "colorbar": {
             "outlinewidth": 0,
             "ticks": ""
            },
            "colorscale": [
             [
              0,
              "#0d0887"
             ],
             [
              0.1111111111111111,
              "#46039f"
             ],
             [
              0.2222222222222222,
              "#7201a8"
             ],
             [
              0.3333333333333333,
              "#9c179e"
             ],
             [
              0.4444444444444444,
              "#bd3786"
             ],
             [
              0.5555555555555556,
              "#d8576b"
             ],
             [
              0.6666666666666666,
              "#ed7953"
             ],
             [
              0.7777777777777778,
              "#fb9f3a"
             ],
             [
              0.8888888888888888,
              "#fdca26"
             ],
             [
              1,
              "#f0f921"
             ]
            ],
            "type": "surface"
           }
          ],
          "table": [
           {
            "cells": {
             "fill": {
              "color": "#EBF0F8"
             },
             "line": {
              "color": "white"
             }
            },
            "header": {
             "fill": {
              "color": "#C8D4E3"
             },
             "line": {
              "color": "white"
             }
            },
            "type": "table"
           }
          ]
         },
         "layout": {
          "annotationdefaults": {
           "arrowcolor": "#2a3f5f",
           "arrowhead": 0,
           "arrowwidth": 1
          },
          "autotypenumbers": "strict",
          "coloraxis": {
           "colorbar": {
            "outlinewidth": 0,
            "ticks": ""
           }
          },
          "colorscale": {
           "diverging": [
            [
             0,
             "#8e0152"
            ],
            [
             0.1,
             "#c51b7d"
            ],
            [
             0.2,
             "#de77ae"
            ],
            [
             0.3,
             "#f1b6da"
            ],
            [
             0.4,
             "#fde0ef"
            ],
            [
             0.5,
             "#f7f7f7"
            ],
            [
             0.6,
             "#e6f5d0"
            ],
            [
             0.7,
             "#b8e186"
            ],
            [
             0.8,
             "#7fbc41"
            ],
            [
             0.9,
             "#4d9221"
            ],
            [
             1,
             "#276419"
            ]
           ],
           "sequential": [
            [
             0,
             "#0d0887"
            ],
            [
             0.1111111111111111,
             "#46039f"
            ],
            [
             0.2222222222222222,
             "#7201a8"
            ],
            [
             0.3333333333333333,
             "#9c179e"
            ],
            [
             0.4444444444444444,
             "#bd3786"
            ],
            [
             0.5555555555555556,
             "#d8576b"
            ],
            [
             0.6666666666666666,
             "#ed7953"
            ],
            [
             0.7777777777777778,
             "#fb9f3a"
            ],
            [
             0.8888888888888888,
             "#fdca26"
            ],
            [
             1,
             "#f0f921"
            ]
           ],
           "sequentialminus": [
            [
             0,
             "#0d0887"
            ],
            [
             0.1111111111111111,
             "#46039f"
            ],
            [
             0.2222222222222222,
             "#7201a8"
            ],
            [
             0.3333333333333333,
             "#9c179e"
            ],
            [
             0.4444444444444444,
             "#bd3786"
            ],
            [
             0.5555555555555556,
             "#d8576b"
            ],
            [
             0.6666666666666666,
             "#ed7953"
            ],
            [
             0.7777777777777778,
             "#fb9f3a"
            ],
            [
             0.8888888888888888,
             "#fdca26"
            ],
            [
             1,
             "#f0f921"
            ]
           ]
          },
          "colorway": [
           "#636efa",
           "#EF553B",
           "#00cc96",
           "#ab63fa",
           "#FFA15A",
           "#19d3f3",
           "#FF6692",
           "#B6E880",
           "#FF97FF",
           "#FECB52"
          ],
          "font": {
           "color": "#2a3f5f"
          },
          "geo": {
           "bgcolor": "white",
           "lakecolor": "white",
           "landcolor": "#E5ECF6",
           "showlakes": true,
           "showland": true,
           "subunitcolor": "white"
          },
          "hoverlabel": {
           "align": "left"
          },
          "hovermode": "closest",
          "mapbox": {
           "style": "light"
          },
          "paper_bgcolor": "white",
          "plot_bgcolor": "#E5ECF6",
          "polar": {
           "angularaxis": {
            "gridcolor": "white",
            "linecolor": "white",
            "ticks": ""
           },
           "bgcolor": "#E5ECF6",
           "radialaxis": {
            "gridcolor": "white",
            "linecolor": "white",
            "ticks": ""
           }
          },
          "scene": {
           "xaxis": {
            "backgroundcolor": "#E5ECF6",
            "gridcolor": "white",
            "gridwidth": 2,
            "linecolor": "white",
            "showbackground": true,
            "ticks": "",
            "zerolinecolor": "white"
           },
           "yaxis": {
            "backgroundcolor": "#E5ECF6",
            "gridcolor": "white",
            "gridwidth": 2,
            "linecolor": "white",
            "showbackground": true,
            "ticks": "",
            "zerolinecolor": "white"
           },
           "zaxis": {
            "backgroundcolor": "#E5ECF6",
            "gridcolor": "white",
            "gridwidth": 2,
            "linecolor": "white",
            "showbackground": true,
            "ticks": "",
            "zerolinecolor": "white"
           }
          },
          "shapedefaults": {
           "line": {
            "color": "#2a3f5f"
           }
          },
          "ternary": {
           "aaxis": {
            "gridcolor": "white",
            "linecolor": "white",
            "ticks": ""
           },
           "baxis": {
            "gridcolor": "white",
            "linecolor": "white",
            "ticks": ""
           },
           "bgcolor": "#E5ECF6",
           "caxis": {
            "gridcolor": "white",
            "linecolor": "white",
            "ticks": ""
           }
          },
          "title": {
           "x": 0.05
          },
          "xaxis": {
           "automargin": true,
           "gridcolor": "white",
           "linecolor": "white",
           "ticks": "",
           "title": {
            "standoff": 15
           },
           "zerolinecolor": "white",
           "zerolinewidth": 2
          },
          "yaxis": {
           "automargin": true,
           "gridcolor": "white",
           "linecolor": "white",
           "ticks": "",
           "title": {
            "standoff": 15
           },
           "zerolinecolor": "white",
           "zerolinewidth": 2
          }
         }
        },
        "xaxis": {
         "anchor": "y",
         "domain": [
          0,
          1
         ],
         "title": {
          "text": "0"
         }
        },
        "yaxis": {
         "anchor": "x",
         "domain": [
          0,
          1
         ],
         "title": {
          "text": "1"
         }
        }
       }
      },
      "text/html": [
       "<div>                            <div id=\"40a218dc-5458-412e-9731-35b072c629fa\" class=\"plotly-graph-div\" style=\"height:525px; width:100%;\"></div>            <script type=\"text/javascript\">                require([\"plotly\"], function(Plotly) {                    window.PLOTLYENV=window.PLOTLYENV || {};                                    if (document.getElementById(\"40a218dc-5458-412e-9731-35b072c629fa\")) {                    Plotly.newPlot(                        \"40a218dc-5458-412e-9731-35b072c629fa\",                        [{\"hovertemplate\":\"0=%{x}<br>1=%{y}<extra></extra>\",\"legendgroup\":\"\",\"marker\":{\"color\":\"#636efa\",\"symbol\":\"circle\"},\"mode\":\"markers\",\"name\":\"\",\"orientation\":\"v\",\"showlegend\":false,\"x\":[7.304696246659199,2.740783464391433,3.1725162485085874,2.6143501870479313,2.668038436377851,2.3670231388667973,2.3153864139615283,2.013123274432692,2.725685630290328,2.084429529241316,2.4088447155654764,3.146103937296697,2.9503969191066206,2.6082106750350906,2.7274104378243087,1.138978995389423,2.5123694658702282,0.8750359658613711,3.517856744214326,1.0104052257147438,1.4314410194398997,0.8913587916682171,0.4515219301239875,0.7050102341468992,1.0017832861127098,0.8888174362863184,0.31492023560200316,1.7312031393976592,0.5995941153243276,1.6995147479321568,0.5890117958850258,0.2708529165033426,-0.14531932032111827,-0.18149049408360204,-0.03489482587662538,0.9636503378427447,0.4202928339810415,0.40381611858356425,0.33212908174510364,-0.08411749022123342,0.5561459566783189,0.33021640792833573,-0.076036190353009,0.545767383752948,0.5661876363838111,0.6110687915796498,-0.5768365187870836,-0.6267260496048435,-0.5112931795384295,-0.3358092086891869,-1.756743835617821,0.15224682485718702,-1.336573102107962,0.16323130178883832,-0.4708141123790314,0.1917328542879261,-0.0737304299132965,0.33877241046828743,-0.8174745442598023,-1.6665870714083797,0.16331336808069472,-0.3147826684728429,-0.3147826684728429,-1.6974108254262639,-0.5716807899619364,-1.303150854877973,-0.6108149024028257,-1.9491905857255385,-1.9076066778316911,-1.8972031764446702,-1.1012396260870223,-1.512378558827912,-1.3081760325192797,-1.267335527257553,-2.001160003060942,-1.2222124406397623,-1.1033220470866663,-1.596446674202331,-1.596446674202331,-2.13321440724606,-0.984983849054025,-0.984983849054025,-1.4595059355576685,-1.6862339130556585,0.137067808400792,-2.1854833392402004,-2.4305263708105596,-1.711933713923459,-1.3905141093397544,-1.7462790382990219,-1.7233668369664863,-1.8645179727281374,-2.1510718941309936,-2.3932117486379263,-3.130987104408986,-3.0493060938855328,-3.130987104408986,-3.225420029028449],\"xaxis\":\"x\",\"y\":[-1.72425952231465,-0.20710983041454137,-0.2499676112247662,-1.7471352323624205,-1.7228659535561488,-1.6867968341922883,2.6701250591873467,2.7444499630088646,-1.6459861161935687,-1.6804199470366306,-0.12302054569050691,-0.09310548732446468,2.6766567981928038,-1.6361482555695568,-0.12314450335933011,-0.1508231942658949,2.8006107926314705,-0.13634079222278309,1.558113668560404,-0.12706606524774466,-0.07604695945226211,-0.0369507131837304,-0.0540317231971799,-0.04259908138551977,-0.027009716944418845,0.010382004343538915,-0.04952215768497125,-0.04079181036758595,-0.06447067469215138,1.4669633689165826,0.008918709305261206,0.09007461977812312,-0.02435531627657877,0.037704561524472956,-0.01441432003726719,1.513243464719226,0.006141289668058804,0.08697197815258526,0.05435721393428759,0.022662115866804295,0.0004030508822418696,0.1381571988926009,0.05885278477558598,0.06700932205474525,0.06326068409693675,0.07385874263571061,0.14769876556955888,0.14903130409810503,0.14704170327009655,0.17133860297080128,0.14258851069661135,0.1989688601276804,0.08944038052182922,0.14508173447132933,0.11787778798643318,0.17752376542230264,0.22625605887381287,-1.2977057905879574,0.16659166750832186,0.19552263210042584,-1.235283862939327,0.11589739412323545,0.11589739412323545,0.17915871388140273,0.18580739072267194,-1.4086128435464078,0.11772880547635108,0.15512091634224828,0.15964704871397853,0.17975960489081005,0.20977759901059967,0.17013589323791267,0.13264951365982786,0.12515223774421094,0.10061336831640705,0.1282438134025571,0.15537852342767855,-1.2936079782359025,-1.2936079782359025,0.13195342443704253,0.1262818334689809,0.1262818334689809,-1.3646107427008651,-1.4015229226627848,0.4149814188532194,-1.3576882063246654,-1.3127045508309636,0.10565696343931824,3.155089226788708,0.12527045886230934,0.24364276871378512,0.15835113818312335,0.33158272151274676,0.2864885824413158,-1.14874696483674,-1.1637415166679739,-1.14874696483674,3.250534934615575],\"yaxis\":\"y\",\"type\":\"scatter\"}],                        {\"template\":{\"data\":{\"bar\":[{\"error_x\":{\"color\":\"#2a3f5f\"},\"error_y\":{\"color\":\"#2a3f5f\"},\"marker\":{\"line\":{\"color\":\"#E5ECF6\",\"width\":0.5},\"pattern\":{\"fillmode\":\"overlay\",\"size\":10,\"solidity\":0.2}},\"type\":\"bar\"}],\"barpolar\":[{\"marker\":{\"line\":{\"color\":\"#E5ECF6\",\"width\":0.5},\"pattern\":{\"fillmode\":\"overlay\",\"size\":10,\"solidity\":0.2}},\"type\":\"barpolar\"}],\"carpet\":[{\"aaxis\":{\"endlinecolor\":\"#2a3f5f\",\"gridcolor\":\"white\",\"linecolor\":\"white\",\"minorgridcolor\":\"white\",\"startlinecolor\":\"#2a3f5f\"},\"baxis\":{\"endlinecolor\":\"#2a3f5f\",\"gridcolor\":\"white\",\"linecolor\":\"white\",\"minorgridcolor\":\"white\",\"startlinecolor\":\"#2a3f5f\"},\"type\":\"carpet\"}],\"choropleth\":[{\"colorbar\":{\"outlinewidth\":0,\"ticks\":\"\"},\"type\":\"choropleth\"}],\"contour\":[{\"colorbar\":{\"outlinewidth\":0,\"ticks\":\"\"},\"colorscale\":[[0.0,\"#0d0887\"],[0.1111111111111111,\"#46039f\"],[0.2222222222222222,\"#7201a8\"],[0.3333333333333333,\"#9c179e\"],[0.4444444444444444,\"#bd3786\"],[0.5555555555555556,\"#d8576b\"],[0.6666666666666666,\"#ed7953\"],[0.7777777777777778,\"#fb9f3a\"],[0.8888888888888888,\"#fdca26\"],[1.0,\"#f0f921\"]],\"type\":\"contour\"}],\"contourcarpet\":[{\"colorbar\":{\"outlinewidth\":0,\"ticks\":\"\"},\"type\":\"contourcarpet\"}],\"heatmap\":[{\"colorbar\":{\"outlinewidth\":0,\"ticks\":\"\"},\"colorscale\":[[0.0,\"#0d0887\"],[0.1111111111111111,\"#46039f\"],[0.2222222222222222,\"#7201a8\"],[0.3333333333333333,\"#9c179e\"],[0.4444444444444444,\"#bd3786\"],[0.5555555555555556,\"#d8576b\"],[0.6666666666666666,\"#ed7953\"],[0.7777777777777778,\"#fb9f3a\"],[0.8888888888888888,\"#fdca26\"],[1.0,\"#f0f921\"]],\"type\":\"heatmap\"}],\"heatmapgl\":[{\"colorbar\":{\"outlinewidth\":0,\"ticks\":\"\"},\"colorscale\":[[0.0,\"#0d0887\"],[0.1111111111111111,\"#46039f\"],[0.2222222222222222,\"#7201a8\"],[0.3333333333333333,\"#9c179e\"],[0.4444444444444444,\"#bd3786\"],[0.5555555555555556,\"#d8576b\"],[0.6666666666666666,\"#ed7953\"],[0.7777777777777778,\"#fb9f3a\"],[0.8888888888888888,\"#fdca26\"],[1.0,\"#f0f921\"]],\"type\":\"heatmapgl\"}],\"histogram\":[{\"marker\":{\"pattern\":{\"fillmode\":\"overlay\",\"size\":10,\"solidity\":0.2}},\"type\":\"histogram\"}],\"histogram2d\":[{\"colorbar\":{\"outlinewidth\":0,\"ticks\":\"\"},\"colorscale\":[[0.0,\"#0d0887\"],[0.1111111111111111,\"#46039f\"],[0.2222222222222222,\"#7201a8\"],[0.3333333333333333,\"#9c179e\"],[0.4444444444444444,\"#bd3786\"],[0.5555555555555556,\"#d8576b\"],[0.6666666666666666,\"#ed7953\"],[0.7777777777777778,\"#fb9f3a\"],[0.8888888888888888,\"#fdca26\"],[1.0,\"#f0f921\"]],\"type\":\"histogram2d\"}],\"histogram2dcontour\":[{\"colorbar\":{\"outlinewidth\":0,\"ticks\":\"\"},\"colorscale\":[[0.0,\"#0d0887\"],[0.1111111111111111,\"#46039f\"],[0.2222222222222222,\"#7201a8\"],[0.3333333333333333,\"#9c179e\"],[0.4444444444444444,\"#bd3786\"],[0.5555555555555556,\"#d8576b\"],[0.6666666666666666,\"#ed7953\"],[0.7777777777777778,\"#fb9f3a\"],[0.8888888888888888,\"#fdca26\"],[1.0,\"#f0f921\"]],\"type\":\"histogram2dcontour\"}],\"mesh3d\":[{\"colorbar\":{\"outlinewidth\":0,\"ticks\":\"\"},\"type\":\"mesh3d\"}],\"parcoords\":[{\"line\":{\"colorbar\":{\"outlinewidth\":0,\"ticks\":\"\"}},\"type\":\"parcoords\"}],\"pie\":[{\"automargin\":true,\"type\":\"pie\"}],\"scatter\":[{\"marker\":{\"colorbar\":{\"outlinewidth\":0,\"ticks\":\"\"}},\"type\":\"scatter\"}],\"scatter3d\":[{\"line\":{\"colorbar\":{\"outlinewidth\":0,\"ticks\":\"\"}},\"marker\":{\"colorbar\":{\"outlinewidth\":0,\"ticks\":\"\"}},\"type\":\"scatter3d\"}],\"scattercarpet\":[{\"marker\":{\"colorbar\":{\"outlinewidth\":0,\"ticks\":\"\"}},\"type\":\"scattercarpet\"}],\"scattergeo\":[{\"marker\":{\"colorbar\":{\"outlinewidth\":0,\"ticks\":\"\"}},\"type\":\"scattergeo\"}],\"scattergl\":[{\"marker\":{\"colorbar\":{\"outlinewidth\":0,\"ticks\":\"\"}},\"type\":\"scattergl\"}],\"scattermapbox\":[{\"marker\":{\"colorbar\":{\"outlinewidth\":0,\"ticks\":\"\"}},\"type\":\"scattermapbox\"}],\"scatterpolar\":[{\"marker\":{\"colorbar\":{\"outlinewidth\":0,\"ticks\":\"\"}},\"type\":\"scatterpolar\"}],\"scatterpolargl\":[{\"marker\":{\"colorbar\":{\"outlinewidth\":0,\"ticks\":\"\"}},\"type\":\"scatterpolargl\"}],\"scatterternary\":[{\"marker\":{\"colorbar\":{\"outlinewidth\":0,\"ticks\":\"\"}},\"type\":\"scatterternary\"}],\"surface\":[{\"colorbar\":{\"outlinewidth\":0,\"ticks\":\"\"},\"colorscale\":[[0.0,\"#0d0887\"],[0.1111111111111111,\"#46039f\"],[0.2222222222222222,\"#7201a8\"],[0.3333333333333333,\"#9c179e\"],[0.4444444444444444,\"#bd3786\"],[0.5555555555555556,\"#d8576b\"],[0.6666666666666666,\"#ed7953\"],[0.7777777777777778,\"#fb9f3a\"],[0.8888888888888888,\"#fdca26\"],[1.0,\"#f0f921\"]],\"type\":\"surface\"}],\"table\":[{\"cells\":{\"fill\":{\"color\":\"#EBF0F8\"},\"line\":{\"color\":\"white\"}},\"header\":{\"fill\":{\"color\":\"#C8D4E3\"},\"line\":{\"color\":\"white\"}},\"type\":\"table\"}]},\"layout\":{\"annotationdefaults\":{\"arrowcolor\":\"#2a3f5f\",\"arrowhead\":0,\"arrowwidth\":1},\"autotypenumbers\":\"strict\",\"coloraxis\":{\"colorbar\":{\"outlinewidth\":0,\"ticks\":\"\"}},\"colorscale\":{\"diverging\":[[0,\"#8e0152\"],[0.1,\"#c51b7d\"],[0.2,\"#de77ae\"],[0.3,\"#f1b6da\"],[0.4,\"#fde0ef\"],[0.5,\"#f7f7f7\"],[0.6,\"#e6f5d0\"],[0.7,\"#b8e186\"],[0.8,\"#7fbc41\"],[0.9,\"#4d9221\"],[1,\"#276419\"]],\"sequential\":[[0.0,\"#0d0887\"],[0.1111111111111111,\"#46039f\"],[0.2222222222222222,\"#7201a8\"],[0.3333333333333333,\"#9c179e\"],[0.4444444444444444,\"#bd3786\"],[0.5555555555555556,\"#d8576b\"],[0.6666666666666666,\"#ed7953\"],[0.7777777777777778,\"#fb9f3a\"],[0.8888888888888888,\"#fdca26\"],[1.0,\"#f0f921\"]],\"sequentialminus\":[[0.0,\"#0d0887\"],[0.1111111111111111,\"#46039f\"],[0.2222222222222222,\"#7201a8\"],[0.3333333333333333,\"#9c179e\"],[0.4444444444444444,\"#bd3786\"],[0.5555555555555556,\"#d8576b\"],[0.6666666666666666,\"#ed7953\"],[0.7777777777777778,\"#fb9f3a\"],[0.8888888888888888,\"#fdca26\"],[1.0,\"#f0f921\"]]},\"colorway\":[\"#636efa\",\"#EF553B\",\"#00cc96\",\"#ab63fa\",\"#FFA15A\",\"#19d3f3\",\"#FF6692\",\"#B6E880\",\"#FF97FF\",\"#FECB52\"],\"font\":{\"color\":\"#2a3f5f\"},\"geo\":{\"bgcolor\":\"white\",\"lakecolor\":\"white\",\"landcolor\":\"#E5ECF6\",\"showlakes\":true,\"showland\":true,\"subunitcolor\":\"white\"},\"hoverlabel\":{\"align\":\"left\"},\"hovermode\":\"closest\",\"mapbox\":{\"style\":\"light\"},\"paper_bgcolor\":\"white\",\"plot_bgcolor\":\"#E5ECF6\",\"polar\":{\"angularaxis\":{\"gridcolor\":\"white\",\"linecolor\":\"white\",\"ticks\":\"\"},\"bgcolor\":\"#E5ECF6\",\"radialaxis\":{\"gridcolor\":\"white\",\"linecolor\":\"white\",\"ticks\":\"\"}},\"scene\":{\"xaxis\":{\"backgroundcolor\":\"#E5ECF6\",\"gridcolor\":\"white\",\"gridwidth\":2,\"linecolor\":\"white\",\"showbackground\":true,\"ticks\":\"\",\"zerolinecolor\":\"white\"},\"yaxis\":{\"backgroundcolor\":\"#E5ECF6\",\"gridcolor\":\"white\",\"gridwidth\":2,\"linecolor\":\"white\",\"showbackground\":true,\"ticks\":\"\",\"zerolinecolor\":\"white\"},\"zaxis\":{\"backgroundcolor\":\"#E5ECF6\",\"gridcolor\":\"white\",\"gridwidth\":2,\"linecolor\":\"white\",\"showbackground\":true,\"ticks\":\"\",\"zerolinecolor\":\"white\"}},\"shapedefaults\":{\"line\":{\"color\":\"#2a3f5f\"}},\"ternary\":{\"aaxis\":{\"gridcolor\":\"white\",\"linecolor\":\"white\",\"ticks\":\"\"},\"baxis\":{\"gridcolor\":\"white\",\"linecolor\":\"white\",\"ticks\":\"\"},\"bgcolor\":\"#E5ECF6\",\"caxis\":{\"gridcolor\":\"white\",\"linecolor\":\"white\",\"ticks\":\"\"}},\"title\":{\"x\":0.05},\"xaxis\":{\"automargin\":true,\"gridcolor\":\"white\",\"linecolor\":\"white\",\"ticks\":\"\",\"title\":{\"standoff\":15},\"zerolinecolor\":\"white\",\"zerolinewidth\":2},\"yaxis\":{\"automargin\":true,\"gridcolor\":\"white\",\"linecolor\":\"white\",\"ticks\":\"\",\"title\":{\"standoff\":15},\"zerolinecolor\":\"white\",\"zerolinewidth\":2}}},\"xaxis\":{\"anchor\":\"y\",\"domain\":[0.0,1.0],\"title\":{\"text\":\"0\"}},\"yaxis\":{\"anchor\":\"x\",\"domain\":[0.0,1.0],\"title\":{\"text\":\"1\"}},\"legend\":{\"tracegroupgap\":0},\"margin\":{\"t\":60},\"shapes\":[{\"type\":\"line\",\"x0\":0,\"x1\":2.334207226158761,\"y0\":0,\"y1\":-0.5057463368961227},{\"type\":\"line\",\"x0\":0,\"x1\":-2.2851560669007287,\"y0\":0,\"y1\":0.42014633200169554},{\"type\":\"line\",\"x0\":0,\"x1\":2.1494143985906398,\"y0\":0,\"y1\":0.40090945548255275},{\"type\":\"line\",\"x0\":0,\"x1\":2.2618547929955186,\"y0\":0,\"y1\":-0.060507247685879055}],\"annotations\":[{\"ax\":0,\"ay\":0,\"text\":\"TopSpeed_KmH\",\"x\":1.4005243356952568,\"xanchor\":\"center\",\"y\":-0.16858211229870756,\"yanchor\":\"bottom\"},{\"ax\":0,\"ay\":0,\"text\":\"AccelSec\",\"x\":-1.3710936401404372,\"xanchor\":\"center\",\"y\":0.1400487773338985,\"yanchor\":\"bottom\"},{\"ax\":0,\"ay\":0,\"text\":\"FastCharge_KmH\",\"x\":1.2896486391543838,\"xanchor\":\"center\",\"y\":0.13363648516085092,\"yanchor\":\"bottom\"},{\"ax\":0,\"ay\":0,\"text\":\"class\",\"x\":1.357112875797311,\"xanchor\":\"center\",\"y\":-0.020169082561959685,\"yanchor\":\"bottom\"}]},                        {\"responsive\": true}                    ).then(function(){\n",
       "                            \n",
       "var gd = document.getElementById('40a218dc-5458-412e-9731-35b072c629fa');\n",
       "var x = new MutationObserver(function (mutations, observer) {{\n",
       "        var display = window.getComputedStyle(gd).display;\n",
       "        if (!display || display === 'none') {{\n",
       "            console.log([gd, 'removed!']);\n",
       "            Plotly.purge(gd);\n",
       "            observer.disconnect();\n",
       "        }}\n",
       "}});\n",
       "\n",
       "// Listen for the removal of the full notebook cells\n",
       "var notebookContainer = gd.closest('#notebook-container');\n",
       "if (notebookContainer) {{\n",
       "    x.observe(notebookContainer, {childList: true});\n",
       "}}\n",
       "\n",
       "// Listen for the clearing of the current output cell\n",
       "var outputEl = gd.closest('.output');\n",
       "if (outputEl) {{\n",
       "    x.observe(outputEl, {childList: true});\n",
       "}}\n",
       "\n",
       "                        })                };                });            </script>        </div>"
      ]
     },
     "metadata": {},
     "output_type": "display_data"
    }
   ],
   "source": [
    "import plotly.express as px\n",
    "features = columns[:5] #,'CaseNum','lat','lon','pop','statenum'\n",
    "loadings = pca1.components_.T * np.sqrt(pca1.explained_variance_)\n",
    "fig = px.scatter(data_reduced_pca[:,:2], x=0, y=1)\n",
    "for i, feature in enumerate(features):\n",
    "    fig.add_shape(\n",
    "        type='line',\n",
    "        x0=0, y0=0,\n",
    "        x1=loadings[i, 0]*2.5,\n",
    "        y1=loadings[i, 1]*4.5\n",
    "    )\n",
    "    fig.add_annotation(\n",
    "        x=loadings[i, 0]*1.5,\n",
    "        y=loadings[i, 1]*1.5,\n",
    "        ax=0, ay=0,\n",
    "        xanchor=\"center\",\n",
    "        yanchor=\"bottom\",\n",
    "        text=feature,\n",
    "    )\n",
    "fig.show()"
   ]
  },
  {
   "cell_type": "markdown",
   "id": "edd4b9b3",
   "metadata": {},
   "source": [
    "\n",
    "#### (d) Section Summary :<a id='Summary3'></a>\n"
   ]
  },
  {
   "cell_type": "markdown",
   "id": "3a5b70fb",
   "metadata": {},
   "source": [
    "1. Data was first standardised and the PCA was used to reduce the dimensions into 3 dimensions.\n",
    "2. The accuracy of the prediction is 63%.\n",
    "3. PCA feature components\n",
    "\n",
    "| Feature                  | TopSpeed_KmH      | AccelSec    | Range_Km      |FastCharge_KmH |Seats      |\n",
    "| :----------------------- | :--------------:  | :----:      | :----:        |:----:         |----:      |\n",
    "| PCA Component 1          |      0.51545489   | -0.50462309 | 0.47464773    | 0.49947755    | 0.06995363|\n",
    "| PCA Component 2          |     -0.11150945   |  0.09263594 | 0.08839450    |-0.01334094    | 0.98538960|\n",
    "| PCA Component 3          |     -0.14846612   | 0.47310651  | 0.84377299    |-0.15116254    |-0.13901464| \n",
    "\n",
    "4. K-nearest neighbour(KNN) alogorithm was usedto solve the classification problem.\n",
    "5. Accuracy of 80% was achieved\n"
   ]
  },
  {
   "cell_type": "markdown",
   "id": "ef9a3c32",
   "metadata": {},
   "source": [
    "### Section 5: Compare the quality of prediction between the results of phase 3 and phase 4. <a id='Sec5'></a>"
   ]
  },
  {
   "cell_type": "markdown",
   "id": "8876e5d8",
   "metadata": {},
   "source": [
    "| Method              | Accuracy |\n",
    "| :---------------- | ------: | \n",
    "| Section 3: Using Mutual information gain and Variance Threshold       |   63%  | \n",
    "| Section 4: PCA       |   70%   |\n"
   ]
  },
  {
   "cell_type": "markdown",
   "id": "86ff285d",
   "metadata": {},
   "source": [
    "The accuarcy of the classification is more using PCA than selecting using other principles as described in section 3."
   ]
  },
  {
   "cell_type": "code",
   "execution_count": 203,
   "id": "c6a350a1",
   "metadata": {},
   "outputs": [
    {
     "data": {
      "text/plain": [
       "<Figure size 250x250 with 0 Axes>"
      ]
     },
     "metadata": {},
     "output_type": "display_data"
    },
    {
     "data": {
      "image/png": "[encoded data removed]",
      "text/plain": [
       "<Figure size 500x500 with 1 Axes>"
      ]
     },
     "metadata": {
      "needs_background": "light"
     },
     "output_type": "display_data"
    }
   ],
   "source": [
    "X = data_reduced_pca.copy()\n",
    "y = data_selected_pca['class'].copy()\n",
    "\n",
    "# Split the data into training and test sets\n",
    "X_train_pca, X_test_pca, y_train_pca, y_test_pca = train_test_split(X, y, test_size=0.5,random_state=1)\n",
    "\n",
    "# Scale the features using StandardScaler\n",
    "plt.rcParams['figure.dpi'] = 50\n",
    "fig = plt.figure(1, figsize=(5, 5))\n",
    "\n",
    "\n",
    "scaler = StandardScaler()\n",
    "X_train_pca = scaler.fit_transform(X_train_pca)\n",
    "X_test_pca = scaler.transform(X_test_pca)\n",
    "knn_pca_2 = KNeighborsClassifier(n_neighbors=1)\n",
    "knn_pca_2.fit(X_train_pca[:, :2], y_train_pca)\n",
    "y_pred_pca = knn_pca_2.predict(X_test_pca[:, :2]) \n",
    "\n",
    "\n",
    "matplotlib.rcParams['figure.figsize'] = [10, 10]\n",
    "\n",
    "_, ax = plt.subplots()\n",
    "DecisionBoundaryDisplay.from_estimator(\n",
    "    knn_pca_2,\n",
    "    X_test_pca[:, :2],\n",
    "    cmap=plt.cm.Set1,\n",
    "    ax=ax,\n",
    "    response_method=\"predict\",\n",
    "    plot_method=\"pcolormesh\",\n",
    "    shading=\"auto\",\n",
    ")\n",
    "\n",
    "# Plot also the training points\n",
    "scp=sns.scatterplot(\n",
    "    x=X_test_pca[:, 0],\n",
    "    y=X_test_pca[:, 1],\n",
    "    hue=le.fit_transform(y_test_pca),\n",
    "    palette=plt.cm.Set1,\n",
    "    edgecolor=\"black\",\n",
    "    s=100,\n",
    ")\n",
    "plt.title(\n",
    "    \"PCA based dimesnion reduction and prediction using KNN\"\n",
    ")\n",
    "A=le.fit_transform(data_selected.iloc[:, 3])\n",
    "C=dict(zip(A,le.inverse_transform(A)))\n",
    "D=list(dict(sorted(C.items())).values())\n",
    "\n",
    "lgnd=scp.legend(handles=handles, labels=D,loc='upper left', handlelength=2, borderpad=.5, labelspacing=0.25,fontsize=15)\n",
    "# for handle in lgnd.legendHandles:\n",
    "#     handle.set_sizes([6.0])\n",
    "plt.show()"
   ]
  }
 ],
 "metadata": {
  "kernelspec": {
   "display_name": "Python 3 (ipykernel)",
   "language": "python",
   "name": "python3"
  },
  "language_info": {
   "codemirror_mode": {
    "name": "ipython",
    "version": 3
   },
   "file_extension": ".py",
   "mimetype": "text/x-python",
   "name": "python",
   "nbconvert_exporter": "python",
   "pygments_lexer": "ipython3",
   "version": "3.9.12"
  }
 },
 "nbformat": 4,
 "nbformat_minor": 5
}
